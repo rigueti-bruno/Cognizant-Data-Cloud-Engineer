{
 "cells": [
  {
   "cell_type": "markdown",
   "metadata": {},
   "source": [
    "## INTRODUÇÃO À SEGURANÇA DA INFORMAÇÃO COM PYTHON - BRUNO DIAS - DIO"
   ]
  },
  {
   "cell_type": "markdown",
   "metadata": {},
   "source": [
    "### 1 - PING Simples"
   ]
  },
  {
   "cell_type": "code",
   "execution_count": null,
   "metadata": {},
   "outputs": [],
   "source": [
    "# Importa a Biblioteca \"os\":\n",
    "import os\n",
    "\n",
    "# Inicializa uma variável que receberá o IP/Host que será verificado:\n",
    "x = input('Digite o IP/Host que será verificado: ')\n",
    "\n",
    "# Carrega o comando Ping do sistema que realizará a verificação:\n",
    "os.system(f'ping -n 6 {x}')\n",
    "\n"
   ]
  },
  {
   "cell_type": "markdown",
   "metadata": {},
   "source": [
    "### 2 - PING Múltiplo"
   ]
  },
  {
   "cell_type": "code",
   "execution_count": null,
   "metadata": {},
   "outputs": [],
   "source": [
    "# Importar as Bibliotecas \"os\" e \"time\":\n",
    "import os\n",
    "import time\n",
    "\n",
    "# Abrir o arquivo de texto:\n",
    "with open('host.txt') as file:\n",
    "    dump = file.read() # carrega o arquivo em uma variável\n",
    "    dump = dump.splitlines() # quebra os registros do arquivo por linha em um array\n",
    "    for ip in dump:\n",
    "        print(ip) # imprime cada registro do arquivo\n",
    "        \n",
    "    for ip in dump:\n",
    "        os.system(f'ping -n 2 {ip}') # faz o Ping em cada registro do arquivo\n",
    "        time.sleep(5) # coloca um tempo de espera entre o Ping em cada registro"
   ]
  },
  {
   "cell_type": "markdown",
   "metadata": {},
   "source": [
    "### 3 - Criando o Cliente TCP:"
   ]
  },
  {
   "cell_type": "code",
   "execution_count": null,
   "metadata": {},
   "outputs": [],
   "source": [
    "def main():\n",
    "    import socket # cria a relação com o sistema e a placa de rede\n",
    "    import sys # fornece o acesso a algumas variáveis e funções relacionadas ao interpretador python\n",
    "    \n",
    "    try:\n",
    "        s = socket.socket(socket.AF_INET, socket.SOCK_STREAM, 0) # cria o objeto com a família (socket.AF_INET), tipo (socket.SOCK_STREAM) e protocolo de conexão (0 - TCP)\n",
    "    except socket.error as e: # tratamento de erro\n",
    "        print('A conexão falhou')\n",
    "        print(f'Erro: {e}')\n",
    "        sys.exit()\n",
    "    \n",
    "    print('Socket criado com sucesso.')\n",
    "    \n",
    "    hostalvo = input('Informe o host ou IP a ser conectado: ')\n",
    "    portaalvo = input('Informe a porta a ser conectada: ')\n",
    "    \n",
    "    try:\n",
    "        s.connect((hostalvo, int(portaalvo))) # cria a conexão com o host informado na porta informada\n",
    "        print(f'Cliente TCP conectado com sucesso no host {hostalvo} e na porta {portaalvo}.') # mensagem para conexão bem sucedida no host\n",
    "        s.shutdown(2) # finaliza a conexão após 2 segundos para que ela não fique em loop\n",
    "    except socket.error as e: # tratamento de falha de conexão no host\n",
    "        print(f'A conexão com o host {hostalvo} na porta {portaalvo} falhou.')\n",
    "        print(f'Erro: {e}')\n",
    "        sys.exit()\n",
    "\n",
    "if __name__ == \"__main__\":\n",
    "    main() # executa a função do Cliente TCP\n",
    "    # Caso a conexão ao TCP seja bem sucedida, será solicitado o Host e a Porta para conexão"
   ]
  },
  {
   "cell_type": "markdown",
   "metadata": {},
   "source": [
    "### 4 - Criando o Cliente UDP:"
   ]
  },
  {
   "cell_type": "code",
   "execution_count": null,
   "metadata": {},
   "outputs": [],
   "source": [
    "import socket # cria a conexão com o sistema e a placa de rede\n",
    "\n",
    "s = socket.socket(socket.AF_INET, socket.SOCK_DGRAM) # cria o objeto de conexão com a família \"socket.AF_INET\" e tipo \"socket.SOCK_DGRAM\" - Datagrama\n",
    "\n",
    "print('Cliente Socket criado com sucesso.')\n",
    "\n",
    "host = 'localhost'\n",
    "porta = 5433\n",
    "mensagem = 'Olá servidor'\n",
    "\n",
    "try:\n",
    "    print(f'Cliente: {mensagem}')\n",
    "    s.sendto(mensagem.encode(), (host, 5432)) # empacota (encode) e envia (sendto) a mensagem para o servidor\n",
    "    \n",
    "    dados, servidor = s.recvfrom(4096) # solicita 4096 bytes ao servidor e armazena nas variaveis dados e servidor\n",
    "    dados = dados.decode() # desempacota os bytes recebidos do servidor\n",
    "    print(f'Cliente: {dados}') # exibe os dados recebidos e enviados para o servidor\n",
    "finally:\n",
    "    print('Cliente: fechando a conexão.')\n",
    "    s.close() # finaliza a conexão com o servidor para que não fique em loop"
   ]
  },
  {
   "cell_type": "markdown",
   "metadata": {},
   "source": [
    "### 5 - Criando um Server (Servidor):"
   ]
  },
  {
   "cell_type": "code",
   "execution_count": null,
   "metadata": {},
   "outputs": [],
   "source": [
    "import socket\n",
    "\n",
    "s = socket.socket(socket.AF_INET, socket.SOCK_DGRAM)\n",
    "\n",
    "print('Socket criado com sucesso.')\n",
    "\n",
    "host = 'localhost'\n",
    "porta = 5432\n",
    "\n",
    "s.bind((host, porta)) # liga o servidor ao client UDP - sendo bem sucedida, retorna True\n",
    "\n",
    "mensagem = '\\nServidor: Olá cliente.' # mensagem a ser enviada ao cliente\n",
    "\n",
    "while 1: # conexão do bind bem sucedida: True = 1\n",
    "    dados, endereco = s.recvfrom(4096) # solicita 4096 bytes ao cliente\n",
    "    if dados: # caso a variável dados receba os bytes do cliente\n",
    "        s.sendto(dados + (mensagem.encode()), end) # envia a mensagem para o cliente"
   ]
  },
  {
   "cell_type": "markdown",
   "metadata": {},
   "source": [
    "### 6 - Gerador de Senhas:"
   ]
  },
  {
   "cell_type": "code",
   "execution_count": null,
   "metadata": {},
   "outputs": [],
   "source": [
    "import random # importa a biblioteca que numeros, letras e simbolos aleatorios\n",
    "import string # importa a biblioteca que viabliza operações com strings\n",
    "\n",
    "tamanho = int(input('digite o tamanho da senha: ')) # define o tamanho da senha a ser criada - as boas práticas recomendam 16\n",
    "\n",
    "chars = string.ascii_letters + string.digits + '!@#$%&*()-=+.' # especifica a estrutura da senha a ser criada com letras (string.ascii_letters), numeros (string.digits) e simbolos ('!@#$%&*()-=+.')\n",
    "\n",
    "rnd = random.SystemRandom() # gera códigos aleatórios a partir de fontes fornecidas pelo sistema\n",
    "\n",
    "print(''.join(rnd.choice(chars) for i in range(tamanho))) # gera e imprime uma senha aleatória com os critérios especificados"
   ]
  },
  {
   "cell_type": "markdown",
   "metadata": {},
   "source": [
    "### 7 - Comparador de Hashes:"
   ]
  },
  {
   "cell_type": "code",
   "execution_count": null,
   "metadata": {},
   "outputs": [],
   "source": [
    "import hashlib # importa a biblioteca hashlib\n",
    "\n",
    "arquivo1 = 'a.txt'\n",
    "                    # Carrega nas variáveis os arquivos a serem comparados\n",
    "arquivo2 = 'b.txt'\n",
    "\n",
    "hash1 = hashlib.new('ripemd160') # cria a primeira hash informando o algoritmo de criação dela - ripemd160 (algoritmo hash de 160 bits)\n",
    "\n",
    "hash1.update(open(arquivo1, 'rb').read()) # atribui o primeiro arquivo à hash criada\n",
    "\n",
    "hash2 = hashlib.new('ripemd160') # cria a hash para o segundo arquivo - deve ser do mesmo algoritmo da primeira\n",
    "\n",
    "hash2.update(open(arquivo2, 'rb').read()) # atribui o segundo arquivo à segunda hash criada\n",
    "\n",
    "# Estrutura que irá comparar as Hashes:\n",
    "\n",
    "if hash1.digest() != hash2.digest(): # o método digest() resume os valores gerados pelo método update() nas hashes\n",
    "    print(f'O arquivo {arquivo1} é diferente do arquivo {arquivo2}.')\n",
    "    print(f'O hash do arquivo {arquivo1} é {hash1.hexdigest()}')\n",
    "    print(f'O hash do arquivo {arquivo2} é {hash2.hexdigest()}')\n",
    "else:\n",
    "    print(f'O arquivo {arquivo1} é igual ao arquivo {arquivo2}.')\n",
    "    print(f'O hash do arquivo {arquivo1} é {hash1.hexdigest()}') # imprime o hash do arquivo a.txt\n",
    "    print(f'O hash do arquivo {arquivo2} é {hash2.hexdigest()}') # imprime o hash do arquivo b.txt"
   ]
  },
  {
   "cell_type": "markdown",
   "metadata": {},
   "source": [
    "### 8 - Threads:"
   ]
  },
  {
   "cell_type": "code",
   "execution_count": null,
   "metadata": {},
   "outputs": [],
   "source": [
    "# As funções executam separadamente:\n",
    "\n",
    "def carro1 (velocidade):\n",
    "    trajeto = 0 # onde o carro inicia\n",
    "    \n",
    "    while trajeto <= 100:\n",
    "        print('Carro1: ', trajeto)\n",
    "        trajeto += velocidade\n",
    "\n",
    "def carro2 (velocidade):\n",
    "    trajeto = 0 # onde o carro inicia\n",
    "    \n",
    "    while trajeto <= 100:\n",
    "        print('Carro2: ', trajeto)\n",
    "        trajeto += velocidade\n",
    "\n",
    "carro1(10)\n",
    "            # Dessa forma, o carro2 aguardará a execução do carro1 para depois executar - mesmo iniciando do mesmo lugar e com velocidade maior\n",
    "carro2(20)"
   ]
  },
  {
   "cell_type": "code",
   "execution_count": null,
   "metadata": {},
   "outputs": [],
   "source": [
    "# As funções são executadas simultâneamente:\n",
    "\n",
    "from threading import Thread # importação da classe Thread da biblioteca threading\n",
    "import time # importação da biblioteca time\n",
    "\n",
    "def carro(velocidade, piloto): # uma única função a ser executada\n",
    "    trajeto = 0\n",
    "    while trajeto <= 100:\n",
    "        trajeto += velocidade\n",
    "        time.sleep(0.5) # diferencia as execuções simultâneas\n",
    "        print(f'Piloto: {piloto} KM: {trajeto} \\n')\n",
    "        \n",
    "t_carro1 = Thread(target=carro, args=[1, 'Bruno']) # thread da primeira execução da função\n",
    "t_carro2 = Thread(target=carro, args=[2, 'Python']) # thread da segunda execução da função\n",
    "\n",
    "t_carro1.start()\n",
    "                    # Execuções da função simultâneas - quando o Piloto de velocidade maior chegar a 100, ele pára e só o outro executa\n",
    "t_carro2.start()"
   ]
  },
  {
   "cell_type": "markdown",
   "metadata": {},
   "source": [
    "9 - Manipulação de IPs e Redes"
   ]
  },
  {
   "cell_type": "code",
   "execution_count": 7,
   "metadata": {},
   "outputs": [
    {
     "name": "stdout",
     "output_type": "stream",
     "text": [
      "192.168.0.1\n",
      "192.168.1.1\n"
     ]
    }
   ],
   "source": [
    "import ipaddress # biblioteca que permite manipular e realizar cálculos com IPs e redes\n",
    "\n",
    "ip = '192.168.0.1' # a variável recebe um IP no formato string\n",
    "\n",
    "endereco = ipaddress.ip_address(ip) # converte a string em um endereço IP\n",
    "\n",
    "print(endereco) # imprime o IP informado\n",
    "\n",
    "print(endereco + 256) # adiciona 256 ao IP e gera um número de IP novo"
   ]
  },
  {
   "cell_type": "code",
   "execution_count": null,
   "metadata": {},
   "outputs": [],
   "source": [
    "import ipaddress\n",
    "\n",
    "ip = '192.168.0.0/24' # atribui à string uma refencia de rede no formato string\n",
    "\n",
    "rede = ipaddress.ip_network(ip) # converte a string em uma referência de rede\n",
    "\n",
    "print(rede) # imprime a referencia de rede\n",
    "\n",
    "ip2 = '192.168.0.0/16'\n",
    "rede2 = ipaddress.ip_network(ip2, strict=False) # strict=False - permite que a rede seja identificada de forma correta mesmo se o IP estiver fora do padrão\n",
    "for ip in rede2: # vai imprimir todos os IPs da Rede 16\n",
    "    print(ip)"
   ]
  },
  {
   "cell_type": "markdown",
   "metadata": {},
   "source": [
    "### 10 - Gerador de Hashes:"
   ]
  },
  {
   "cell_type": "code",
   "execution_count": 15,
   "metadata": {},
   "outputs": [
    {
     "name": "stdout",
     "output_type": "stream",
     "text": [
      "O hash da string é: 45cb35c19e588192dd3824d192e7ab27\n"
     ]
    }
   ],
   "source": [
    "import hashlib # biblioteca que permite a geração e manipulação de hashes\n",
    "\n",
    "resultado = hashlib.md5(b'Python Security') # o método hashlib.md5() gera a hash para a string passada pelo algorítmo md5\n",
    "\n",
    "print(f'O hash da string é: {resultado.hexdigest()}')"
   ]
  },
  {
   "cell_type": "code",
   "execution_count": 20,
   "metadata": {},
   "outputs": [
    {
     "name": "stdout",
     "output_type": "stream",
     "text": [
      "O hash de Batman é 4a4566696cc81c6053ec708975767498\n"
     ]
    }
   ],
   "source": [
    "# Cógigo com Input:\n",
    "\n",
    "import hashlib\n",
    "\n",
    "string = input(\"Digite o texto a ser criptografado: \")\n",
    "\n",
    "resultado = hashlib.md5(string.encode('utf-8')) # encoda o texto para utf-8 e gera a hash com o algorítmo md5\n",
    "\n",
    "print(f'O hash de {string} é {resultado.hexdigest()}')"
   ]
  },
  {
   "cell_type": "code",
   "execution_count": null,
   "metadata": {},
   "outputs": [],
   "source": [
    "# Código com Menu de Escolha do Algoritmo para a Criptografia:\n",
    "\n",
    "import hashlib\n",
    "\n",
    "string = input('Digite o texto a ser criptografado: ')\n",
    "\n",
    "menu = int(input( '''MENU - ESCOLHA O TIPO DE HASH:\n",
    "                        1) MD5\n",
    "                        2) SHA1\n",
    "                        3) SHA256\n",
    "                        4) SHA512\n",
    "                        Digite o número da hash a ser gerada: '''))\n",
    "\n",
    "def gerador(string, menu):\n",
    "    if menu == 1:\n",
    "        resultado = hashlib.md5(string.encode('utf-8'))\n",
    "        print(f'O hash MD5 de {string} é {resultado.hexdigest()}')\n",
    "    elif menu == 2:\n",
    "        resultado = hashlib.sha1(string.encode('utf-8'))\n",
    "        print(f'O hash SHA1 de {string} é {resultado.hexdigest()}')\n",
    "    elif menu == 3:\n",
    "        resultado = hashlib.sha256(string.encode('utf-8'))\n",
    "        print(f'O hash SHA256 de {string} é {resultado.hexdigest()}')\n",
    "    elif menu == 4:\n",
    "        resultado = hashlib.sha512(string.encode('utf-8'))\n",
    "        print(f'O hash SHA512 de {string} é {resultado.hexdigest()}')\n",
    "    else:\n",
    "        print('Algo deu errado.')\n",
    "        \n",
    "gerador(string, menu)\n",
    "\n",
    "gerador(\"bruno\", 1)\n",
    "gerador(\"bruno\", 2)\n",
    "gerador(\"bruno\", 3)\n",
    "gerador(\"bruno\", 3)"
   ]
  },
  {
   "cell_type": "markdown",
   "metadata": {},
   "source": [
    "### 11 - Gerador de Wordlists:"
   ]
  },
  {
   "cell_type": "code",
   "execution_count": null,
   "metadata": {},
   "outputs": [],
   "source": [
    "import itertools # biblioteca que fornece condições para fazer iterações com caracteres, como combinações e permutações\n",
    "\n",
    "string = input('Digite a palavra a ser permutada: ')\n",
    "\n",
    "resultado = itertools.permutations(string, len(string)) # recebe o método que fará as permutações dos caracteres das strings informadas (string) pelo número de permutações (len(string))\n",
    "\n",
    "for i in resultado:\n",
    "    print(''.join(i)) # gerará e imprimirá cada palavra gerada pela permutação, recebendo cada caracter e adicionando até formar as palavras na quantidade de permutações informadas"
   ]
  },
  {
   "cell_type": "markdown",
   "metadata": {},
   "source": [
    "### 12 - Web Scraper:"
   ]
  },
  {
   "cell_type": "code",
   "execution_count": null,
   "metadata": {},
   "outputs": [],
   "source": [
    "from bs4 import BeautifulSoup # biblioteca que permite extrair dados de HTML e XML\n",
    "import requests # permite o envio de solicitações HTTP\n",
    "\n",
    "site = requests.get(\"https://www.climatempo.com.br/\").content # conecta ao site (.get) e coleta seu conteúdo (.content)\n",
    "\n",
    "soup = BeautifulSoup(site) # baixa o conteúdo do site no formato HTML e o armazena na variável\n",
    "\n",
    "print(soup.prettify()) # formata o html baixado (.prettify) e o imprime"
   ]
  },
  {
   "cell_type": "code",
   "execution_count": null,
   "metadata": {},
   "outputs": [],
   "source": [
    "from bs4 import BeautifulSoup # biblioteca que permite extrair dados de HTML e XML\n",
    "import requests # permite o envio de solicitações HTTP\n",
    "\n",
    "site = requests.get(\"https://www.climatempo.com.br/\").content # conecta ao site (.get) e coleta seu conteúdo (.content)\n",
    "\n",
    "soup = BeautifulSoup(site) # baixa o conteúdo do site no formato HTML e o armazena na variável\n",
    "\n",
    "print(soup.title.string) # imprime o título da página\n",
    "print(soup.a) # imprime o primeiro link da página\n",
    "print(soup.p.string) # imprime o primeiro paragrafo da página"
   ]
  }
 ],
 "metadata": {
  "interpreter": {
   "hash": "d37f61ffe7d685a1ac48b1d7774f291cdee1834edd502e25b8d0651861a5e209"
  },
  "kernelspec": {
   "display_name": "Python 3.9.9 64-bit",
   "language": "python",
   "name": "python3"
  },
  "language_info": {
   "codemirror_mode": {
    "name": "ipython",
    "version": 3
   },
   "file_extension": ".py",
   "mimetype": "text/x-python",
   "name": "python",
   "nbconvert_exporter": "python",
   "pygments_lexer": "ipython3",
   "version": "3.9.9"
  },
  "orig_nbformat": 4
 },
 "nbformat": 4,
 "nbformat_minor": 2
}
