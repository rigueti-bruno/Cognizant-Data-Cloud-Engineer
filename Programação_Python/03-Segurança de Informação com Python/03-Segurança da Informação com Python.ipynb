{
 "cells": [
  {
   "cell_type": "markdown",
   "metadata": {},
   "source": [
    "## INTRODUÇÃO À SEGURANÇA DA INFORMAÇÃO COM PYTHON - BRUNO DIAS - DIO"
   ]
  },
  {
   "cell_type": "markdown",
   "metadata": {},
   "source": [
    "### 1 - PING Simples"
   ]
  },
  {
   "cell_type": "code",
   "execution_count": null,
   "metadata": {},
   "outputs": [],
   "source": [
    "# Importa a Biblioteca \"os\":\n",
    "import os\n",
    "\n",
    "# Inicializa uma variável que receberá o IP/Host que será verificado:\n",
    "x = input('Digite o IP/Host que será verificado: ')\n",
    "\n",
    "# Carrega o comando Ping do sistema que realizará a verificação:\n",
    "os.system(f'ping -n 6 {x}')\n",
    "\n"
   ]
  },
  {
   "cell_type": "markdown",
   "metadata": {},
   "source": [
    "### 2 - PING Múltiplo"
   ]
  },
  {
   "cell_type": "code",
   "execution_count": null,
   "metadata": {},
   "outputs": [],
   "source": [
    "# Importar as Bibliotecas \"os\" e \"time\":\n",
    "import os\n",
    "import time\n",
    "\n",
    "# Abrir o arquivo de texto:\n",
    "with open('host.txt') as file:\n",
    "    dump = file.read() # carrega o arquivo em uma variável\n",
    "    dump = dump.splitlines() # quebra os registros do arquivo por linha em um array\n",
    "    for ip in dump:\n",
    "        print(ip) # imprime cada registro do arquivo\n",
    "        \n",
    "    for ip in dump:\n",
    "        os.system(f'ping -n 2 {ip}') # faz o Ping em cada registro do arquivo\n",
    "        time.sleep(5) # coloca um tempo de espera entre o Ping em cada registro"
   ]
  },
  {
   "cell_type": "markdown",
   "metadata": {},
   "source": [
    "### 3 - Criando o Cliente TCP:"
   ]
  },
  {
   "cell_type": "code",
   "execution_count": null,
   "metadata": {},
   "outputs": [],
   "source": [
    "def main():\n",
    "    import socket # cria a relação com o sistema e a placa de rede\n",
    "    import sys # fornece o acesso a algumas variáveis e funções relacionadas ao interpretador python\n",
    "    \n",
    "    try:\n",
    "        s = socket.socket(socket.AF_INET, socket.SOCK_STREAM, 0) # cria o objeto com a família (socket.AF_INET), tipo (socket.SOCK_STREAM) e protocolo de conexão (0 - TCP)\n",
    "    except socket.error as e: # tratamento de erro\n",
    "        print('A conexão falhou')\n",
    "        print(f'Erro: {e}')\n",
    "        sys.exit()\n",
    "    \n",
    "    print('Socket criado com sucesso.')\n",
    "    \n",
    "    hostalvo = input('Informe o host ou IP a ser conectado: ')\n",
    "    portaalvo = input('Informe a porta a ser conectada: ')\n",
    "    \n",
    "    try:\n",
    "        s.connect((hostalvo, int(portaalvo))) # cria a conexão com o host informado na porta informada\n",
    "        print(f'Cliente TCP conectado com sucesso no host {hostalvo} e na porta {portaalvo}.') # mensagem para conexão bem sucedida no host\n",
    "        s.shutdown(2) # finaliza a conexão após 2 segundos para que ela não fique em loop\n",
    "    except socket.error as e: # tratamento de falha de conexão no host\n",
    "        print(f'A conexão com o host {hostalvo} na porta {portaalvo} falhou.')\n",
    "        print(f'Erro: {e}')\n",
    "        sys.exit()\n",
    "\n",
    "if __name__ == \"__main__\":\n",
    "    main() # executa a função do Cliente TCP\n",
    "    # Caso a conexão ao TCP seja bem sucedida, será solicitado o Host e a Porta para conexão"
   ]
  },
  {
   "cell_type": "markdown",
   "metadata": {},
   "source": [
    "### 4 - Criando o Cliente UDP:"
   ]
  },
  {
   "cell_type": "code",
   "execution_count": null,
   "metadata": {},
   "outputs": [],
   "source": [
    "import socket # cria a conexão com o sistema e a placa de rede\n",
    "\n",
    "s = socket.socket(socket.AF_INET, socket.SOCK_DGRAM) # cria o objeto de conexão com a família \"socket.AF_INET\" e tipo \"socket.SOCK_DGRAM\" - Datagrama\n",
    "\n",
    "print('Cliente Socket criado com sucesso.')\n",
    "\n",
    "host = 'localhost'\n",
    "porta = 5433\n",
    "mensagem = 'Olá servidor'\n",
    "\n",
    "try:\n",
    "    print(f'Cliente: {mensagem}')\n",
    "    s.sendto(mensagem.encode(), (host, 5432)) # empacota (encode) e envia (sendto) a mensagem para o servidor\n",
    "    \n",
    "    dados, servidor = s.recvfrom(4096) # solicita 4096 bytes ao servidor e armazena nas variaveis dados e servidor\n",
    "    dados = dados.decode() # desempacota os bytes recebidos do servidor\n",
    "    print(f'Cliente: {dados}') # exibe os dados recebidos e enviados para o servidor\n",
    "finally:\n",
    "    print('Cliente: fechando a conexão.')\n",
    "    s.close() # finaliza a conexão com o servidor para que não fique em loop"
   ]
  },
  {
   "cell_type": "markdown",
   "metadata": {},
   "source": [
    "### 5 - Criando um Server (Servidor):"
   ]
  },
  {
   "cell_type": "code",
   "execution_count": null,
   "metadata": {},
   "outputs": [],
   "source": [
    "import socket\n",
    "\n",
    "s = socket.socket(socket.AF_INET, socket.SOCK_DGRAM)\n",
    "\n",
    "print('Socket criado com sucesso.')\n",
    "\n",
    "host = 'localhost'\n",
    "porta = 5432\n",
    "\n",
    "s.bind((host, porta)) # liga o servidor ao client UDP - sendo bem sucedida, retorna True\n",
    "\n",
    "mensagem = '\\nServidor: Olá cliente.' # mensagem a ser enviada ao cliente\n",
    "\n",
    "while 1: # conexão do bind bem sucedida: True = 1\n",
    "    dados, endereco = s.recvfrom(4096) # solicita 4096 bytes ao cliente\n",
    "    if dados: # caso a variável dados receba os bytes do cliente\n",
    "        s.sendto(dados + (mensagem.encode()), end) # envia a mensagem para o cliente"
   ]
  },
  {
   "cell_type": "markdown",
   "metadata": {},
   "source": [
    "### 6 - Gerador de Senhas:"
   ]
  },
  {
   "cell_type": "code",
   "execution_count": null,
   "metadata": {},
   "outputs": [],
   "source": [
    "import random # importa a biblioteca que numeros, letras e simbolos aleatorios\n",
    "import string # importa a biblioteca que viabliza operações com strings\n",
    "\n",
    "tamanho = int(input('digite o tamanho da senha: ')) # define o tamanho da senha a ser criada - as boas práticas recomendam 16\n",
    "\n",
    "chars = string.ascii_letters + string.digits + '!@#$%&*()-=+.' # especifica a estrutura da senha a ser criada com letras (string.ascii_letters), numeros (string.digits) e simbolos ('!@#$%&*()-=+.')\n",
    "\n",
    "rnd = random.SystemRandom() # gera códigos aleatórios a partir de fontes fornecidas pelo sistema\n",
    "\n",
    "print(''.join(rnd.choice(chars) for i in range(tamanho))) # gera e imprime uma senha aleatória com os critérios especificados"
   ]
  },
  {
   "cell_type": "markdown",
   "metadata": {},
   "source": [
    "### 7 - Comparador de Hashes:"
   ]
  },
  {
   "cell_type": "code",
   "execution_count": 8,
   "metadata": {},
   "outputs": [
    {
     "name": "stdout",
     "output_type": "stream",
     "text": [
      "O arquivo a.txt é igual ao arquivo b.txt.\n",
      "O hash do arquivo a.txt é a62696f0770b3c90bebf78f9b25f080c5d10c2e0\n",
      "O hash do arquivo b.txt é a62696f0770b3c90bebf78f9b25f080c5d10c2e0\n"
     ]
    }
   ],
   "source": [
    "import hashlib # importa a biblioteca hashlib\n",
    "\n",
    "arquivo1 = 'a.txt'\n",
    "                    # Carrega nas variáveis os arquivos a serem comparados\n",
    "arquivo2 = 'b.txt'\n",
    "\n",
    "hash1 = hashlib.new('ripemd160') # cria a primeira hash informando o algoritmo de criação dela - ripemd160 (algoritmo hash de 160 bits)\n",
    "\n",
    "hash1.update(open(arquivo1, 'rb').read()) # atribui o primeiro arquivo à hash criada\n",
    "\n",
    "hash2 = hashlib.new('ripemd160') # cria a hash para o segundo arquivo - deve ser do mesmo algoritmo da primeira\n",
    "\n",
    "hash2.update(open(arquivo2, 'rb').read()) # atribui o segundo arquivo à segunda hash criada\n",
    "\n",
    "# Estrutura que irá comparar as Hashes:\n",
    "\n",
    "if hash1.digest() != hash2.digest(): # o método digest() resume os valores gerados pelo método update() nas hashes\n",
    "    print(f'O arquivo {arquivo1} é diferente do arquivo {arquivo2}.')\n",
    "    print(f'O hash do arquivo {arquivo1} é {hash1.hexdigest()}')\n",
    "    print(f'O hash do arquivo {arquivo2} é {hash2.hexdigest()}')\n",
    "else:\n",
    "    print(f'O arquivo {arquivo1} é igual ao arquivo {arquivo2}.')\n",
    "    print(f'O hash do arquivo {arquivo1} é {hash1.hexdigest()}') # imprime o hash do arquivo a.txt\n",
    "    print(f'O hash do arquivo {arquivo2} é {hash2.hexdigest()}') # imprime o hash do arquivo b.txt"
   ]
  }
 ],
 "metadata": {
  "interpreter": {
   "hash": "d37f61ffe7d685a1ac48b1d7774f291cdee1834edd502e25b8d0651861a5e209"
  },
  "kernelspec": {
   "display_name": "Python 3.9.9 64-bit",
   "language": "python",
   "name": "python3"
  },
  "language_info": {
   "codemirror_mode": {
    "name": "ipython",
    "version": 3
   },
   "file_extension": ".py",
   "mimetype": "text/x-python",
   "name": "python",
   "nbconvert_exporter": "python",
   "pygments_lexer": "ipython3",
   "version": "3.9.9"
  },
  "orig_nbformat": 4
 },
 "nbformat": 4,
 "nbformat_minor": 2
}
