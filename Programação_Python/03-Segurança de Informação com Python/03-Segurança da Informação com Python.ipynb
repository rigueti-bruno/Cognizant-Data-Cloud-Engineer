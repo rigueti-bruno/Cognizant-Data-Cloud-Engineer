{
 "cells": [
  {
   "cell_type": "markdown",
   "metadata": {},
   "source": [
    "## INTRODUÇÃO À SEGURANÇA DA INFORMAÇÃO COM PYTHON - BRUNO DIAS - DIO"
   ]
  },
  {
   "cell_type": "markdown",
   "metadata": {},
   "source": [
    "### 1 - PING Simples"
   ]
  },
  {
   "cell_type": "code",
   "execution_count": null,
   "metadata": {},
   "outputs": [],
   "source": [
    "# Importa a Biblioteca \"os\":\n",
    "import os\n",
    "\n",
    "# Inicializa uma variável que receberá o IP/Host que será verificado:\n",
    "x = input('Digite o IP/Host que será verificado: ')\n",
    "\n",
    "# Carrega o comando Ping do sistema que realizará a verificação:\n",
    "os.system(f'ping -n 6 {x}')\n",
    "\n"
   ]
  },
  {
   "cell_type": "markdown",
   "metadata": {},
   "source": [
    "### 2 - PING Múltiplo"
   ]
  },
  {
   "cell_type": "code",
   "execution_count": 3,
   "metadata": {},
   "outputs": [
    {
     "name": "stdout",
     "output_type": "stream",
     "text": [
      "www.google.com\n",
      "8.8.8.8\n",
      "www.pudim.com.br\n",
      "4.4.4.4\n",
      "www.brunos.blog.br\n"
     ]
    }
   ],
   "source": [
    "# Importar as Bibliotecas \"os\" e \"time\":\n",
    "import os\n",
    "import time\n",
    "\n",
    "# Abrir o arquivo de texto:\n",
    "with open('host.txt') as file:\n",
    "    dump = file.read() # carrega o arquivo em uma variável\n",
    "    dump = dump.splitlines() # quebra os registros do arquivo por linha em um array\n",
    "    for ip in dump:\n",
    "        print(ip) # imprime cada registro do arquivo\n",
    "        \n",
    "    for ip in dump:\n",
    "        os.system(f'ping -n 2 {ip}') # faz o Ping em cada registro do arquivo\n",
    "        time.sleep(5) # coloca um tempo de espera entre o Ping em cada registro"
   ]
  }
 ],
 "metadata": {
  "interpreter": {
   "hash": "d37f61ffe7d685a1ac48b1d7774f291cdee1834edd502e25b8d0651861a5e209"
  },
  "kernelspec": {
   "display_name": "Python 3.9.9 64-bit",
   "language": "python",
   "name": "python3"
  },
  "language_info": {
   "codemirror_mode": {
    "name": "ipython",
    "version": 3
   },
   "file_extension": ".py",
   "mimetype": "text/x-python",
   "name": "python",
   "nbconvert_exporter": "python",
   "pygments_lexer": "ipython3",
   "version": "3.9.9"
  },
  "orig_nbformat": 4
 },
 "nbformat": 4,
 "nbformat_minor": 2
}
