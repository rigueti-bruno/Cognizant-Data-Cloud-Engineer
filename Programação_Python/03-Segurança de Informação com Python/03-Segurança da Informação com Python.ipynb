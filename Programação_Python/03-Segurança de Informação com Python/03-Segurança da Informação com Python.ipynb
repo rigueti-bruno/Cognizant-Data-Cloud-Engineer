{
 "cells": [
  {
   "cell_type": "markdown",
   "metadata": {},
   "source": [
    "## INTRODUÇÃO À SEGURANÇA DA INFORMAÇÃO COM PYTHON - BRUNO DIAS - DIO"
   ]
  },
  {
   "cell_type": "markdown",
   "metadata": {},
   "source": [
    "### 1 - PING Simples"
   ]
  },
  {
   "cell_type": "code",
   "execution_count": null,
   "metadata": {},
   "outputs": [],
   "source": [
    "# Importa a Biblioteca \"os\":\n",
    "import os\n",
    "\n",
    "# Inicializa uma variável que receberá o IP/Host que será verificado:\n",
    "x = input('Digite o IP/Host que será verificado: ')\n",
    "\n",
    "# Carrega o comando Ping do sistema que realizará a verificação:\n",
    "os.system(f'ping -n 6 {x}')\n",
    "\n"
   ]
  },
  {
   "cell_type": "markdown",
   "metadata": {},
   "source": [
    "### 2 - PING Múltiplo"
   ]
  },
  {
   "cell_type": "code",
   "execution_count": null,
   "metadata": {},
   "outputs": [],
   "source": [
    "# Importar as Bibliotecas \"os\" e \"time\":\n",
    "import os\n",
    "import time\n",
    "\n",
    "# Abrir o arquivo de texto:\n",
    "with open('host.txt') as file:\n",
    "    dump = file.read() # carrega o arquivo em uma variável\n",
    "    dump = dump.splitlines() # quebra os registros do arquivo por linha em um array\n",
    "    for ip in dump:\n",
    "        print(ip) # imprime cada registro do arquivo\n",
    "        \n",
    "    for ip in dump:\n",
    "        os.system(f'ping -n 2 {ip}') # faz o Ping em cada registro do arquivo\n",
    "        time.sleep(5) # coloca um tempo de espera entre o Ping em cada registro"
   ]
  },
  {
   "cell_type": "markdown",
   "metadata": {},
   "source": [
    "### 3 - Criando o Cliente TCP:"
   ]
  },
  {
   "cell_type": "code",
   "execution_count": null,
   "metadata": {},
   "outputs": [],
   "source": [
    "def main():\n",
    "    import socket # cria a relação com o sistema e a placa de rede\n",
    "    import sys # fornece o acesso a algumas variáveis e funções relacionadas ao interpretador python\n",
    "    \n",
    "    try:\n",
    "        s = socket.socket(socket.AF_INET, socket.SOCK_STREAM, 0) # cria o objeto com a família (socket.AF_INET), tipo (socket.SOCK_STREAM) e protocolo de conexão (0 - TCP)\n",
    "    except socket.error as e: # tratamento de erro\n",
    "        print('A conexão falhou')\n",
    "        print(f'Erro: {e}')\n",
    "        sys.exit()\n",
    "    \n",
    "    print('Socket criado com sucesso.')\n",
    "    \n",
    "    hostalvo = input('Informe o host ou IP a ser conectado: ')\n",
    "    portaalvo = input('Informe a porta a ser conectada: ')\n",
    "    \n",
    "    try:\n",
    "        s.connect((hostalvo, int(portaalvo))) # cria a conexão com o host informado na porta informada\n",
    "        print(f'Cliente TCP conectado com sucesso no host {hostalvo} e na porta {portaalvo}.') # mensagem para conexão bem sucedida no host\n",
    "        s.shutdown(2) # finaliza a conexão após 2 segundos para que ela não fique em loop\n",
    "    except socket.error as e: # tratamento de falha de conexão no host\n",
    "        print(f'A conexão com o host {hostalvo} na porta {portaalvo} falhou.')\n",
    "        print(f'Erro: {e}')\n",
    "        sys.exit()\n",
    "\n",
    "if __name__ == \"__main__\":\n",
    "    main() # executa a função do Cliente TCP\n",
    "    # Caso a conexão ao TCP seja bem sucedida, será solicitado o Host e a Porta para conexão"
   ]
  },
  {
   "cell_type": "markdown",
   "metadata": {},
   "source": [
    "### 4 - Criando o Cliente UDP:"
   ]
  },
  {
   "cell_type": "code",
   "execution_count": null,
   "metadata": {},
   "outputs": [],
   "source": [
    "import socket # cria a conexão com o sistema e a placa de rede\n",
    "\n",
    "s = socket.socket(socket.AF_INET, socket.SOCK_DGRAM) # cria o objeto de conexão com a família \"socket.AF_INET\" e tipo \"socket.SOCK_DGRAM\" - Datagrama\n",
    "\n",
    "print('Cliente Socket criado com sucesso.')\n",
    "\n",
    "host = 'localhost'\n",
    "porta = 5433\n",
    "mensagem = 'Olá servidor'\n",
    "\n",
    "try:\n",
    "    print(f'Cliente: {mensagem}')\n",
    "    s.sendto(mensagem.encode(), (host, 5432)) # empacota (encode) e envia (sendto) a mensagem para o servidor\n",
    "    \n",
    "    dados, servidor = s.recvfrom(4096) # solicita 4096 bytes ao servidor e armazena nas variaveis dados e servidor\n",
    "    dados = dados.decode() # desempacota os bytes recebidos do servidor\n",
    "    print(f'Cliente: {dados}') # exibe os dados recebidos e enviados para o servidor\n",
    "finally:\n",
    "    print('Cliente: fechando a conexão.')\n",
    "    s.close() # finaliza a conexão com o servidor para que não fique em loop"
   ]
  },
  {
   "cell_type": "markdown",
   "metadata": {},
   "source": [
    "### 5 - Criando um Server (Servidor):"
   ]
  },
  {
   "cell_type": "code",
   "execution_count": null,
   "metadata": {},
   "outputs": [],
   "source": [
    "import socket\n",
    "\n",
    "s = socket.socket(socket.AF_INET, socket.SOCK_DGRAM)\n",
    "\n",
    "print('Socket criado com sucesso.')\n",
    "\n",
    "host = 'localhost'\n",
    "porta = 5432\n",
    "\n",
    "s.bind((host, porta)) # liga o servidor ao client UDP - sendo bem sucedida, retorna True\n",
    "\n",
    "mensagem = '\\nServidor: Olá cliente.' # mensagem a ser enviada ao cliente\n",
    "\n",
    "while 1: # conexão do bind bem sucedida: True = 1\n",
    "    dados, endereco = s.recvfrom(4096) # solicita 4096 bytes ao cliente\n",
    "    if dados: # caso a variável dados receba os bytes do cliente\n",
    "        s.sendto(dados + (mensagem.encode()), end) # envia a mensagem para o cliente"
   ]
  },
  {
   "cell_type": "markdown",
   "metadata": {},
   "source": [
    "### 6 - Gerador de Senhas:"
   ]
  },
  {
   "cell_type": "code",
   "execution_count": null,
   "metadata": {},
   "outputs": [],
   "source": [
    "import random # importa a biblioteca que numeros, letras e simbolos aleatorios\n",
    "import string # importa a biblioteca que viabliza operações com strings\n",
    "\n",
    "tamanho = int(input('digite o tamanho da senha: ')) # define o tamanho da senha a ser criada - as boas práticas recomendam 16\n",
    "\n",
    "chars = string.ascii_letters + string.digits + '!@#$%&*()-=+.' # especifica a estrutura da senha a ser criada com letras (string.ascii_letters), numeros (string.digits) e simbolos ('!@#$%&*()-=+.')\n",
    "\n",
    "rnd = random.SystemRandom() # gera códigos aleatórios a partir de fontes fornecidas pelo sistema\n",
    "\n",
    "print(''.join(rnd.choice(chars) for i in range(tamanho))) # gera e imprime uma senha aleatória com os critérios especificados"
   ]
  },
  {
   "cell_type": "markdown",
   "metadata": {},
   "source": [
    "### 7 - Comparador de Hashes:"
   ]
  },
  {
   "cell_type": "code",
   "execution_count": null,
   "metadata": {},
   "outputs": [],
   "source": [
    "import hashlib # importa a biblioteca hashlib\n",
    "\n",
    "arquivo1 = 'a.txt'\n",
    "                    # Carrega nas variáveis os arquivos a serem comparados\n",
    "arquivo2 = 'b.txt'\n",
    "\n",
    "hash1 = hashlib.new('ripemd160') # cria a primeira hash informando o algoritmo de criação dela - ripemd160 (algoritmo hash de 160 bits)\n",
    "\n",
    "hash1.update(open(arquivo1, 'rb').read()) # atribui o primeiro arquivo à hash criada\n",
    "\n",
    "hash2 = hashlib.new('ripemd160') # cria a hash para o segundo arquivo - deve ser do mesmo algoritmo da primeira\n",
    "\n",
    "hash2.update(open(arquivo2, 'rb').read()) # atribui o segundo arquivo à segunda hash criada\n",
    "\n",
    "# Estrutura que irá comparar as Hashes:\n",
    "\n",
    "if hash1.digest() != hash2.digest(): # o método digest() resume os valores gerados pelo método update() nas hashes\n",
    "    print(f'O arquivo {arquivo1} é diferente do arquivo {arquivo2}.')\n",
    "    print(f'O hash do arquivo {arquivo1} é {hash1.hexdigest()}')\n",
    "    print(f'O hash do arquivo {arquivo2} é {hash2.hexdigest()}')\n",
    "else:\n",
    "    print(f'O arquivo {arquivo1} é igual ao arquivo {arquivo2}.')\n",
    "    print(f'O hash do arquivo {arquivo1} é {hash1.hexdigest()}') # imprime o hash do arquivo a.txt\n",
    "    print(f'O hash do arquivo {arquivo2} é {hash2.hexdigest()}') # imprime o hash do arquivo b.txt"
   ]
  },
  {
   "cell_type": "markdown",
   "metadata": {},
   "source": [
    "### 8 - Threads:"
   ]
  },
  {
   "cell_type": "code",
   "execution_count": null,
   "metadata": {},
   "outputs": [],
   "source": [
    "# As funções executam separadamente:\n",
    "\n",
    "def carro1 (velocidade):\n",
    "    trajeto = 0 # onde o carro inicia\n",
    "    \n",
    "    while trajeto <= 100:\n",
    "        print('Carro1: ', trajeto)\n",
    "        trajeto += velocidade\n",
    "\n",
    "def carro2 (velocidade):\n",
    "    trajeto = 0 # onde o carro inicia\n",
    "    \n",
    "    while trajeto <= 100:\n",
    "        print('Carro2: ', trajeto)\n",
    "        trajeto += velocidade\n",
    "\n",
    "carro1(10)\n",
    "            # Dessa forma, o carro2 aguardará a execução do carro1 para depois executar - mesmo iniciando do mesmo lugar e com velocidade maior\n",
    "carro2(20)"
   ]
  },
  {
   "cell_type": "code",
   "execution_count": null,
   "metadata": {},
   "outputs": [],
   "source": [
    "# As funções são executadas simultâneamente:\n",
    "\n",
    "from threading import Thread # importação da classe Thread da biblioteca threading\n",
    "import time # importação da biblioteca time\n",
    "\n",
    "def carro(velocidade, piloto): # uma única função a ser executada\n",
    "    trajeto = 0\n",
    "    while trajeto <= 100:\n",
    "        trajeto += velocidade\n",
    "        time.sleep(0.5) # diferencia as execuções simultâneas\n",
    "        print(f'Piloto: {piloto} KM: {trajeto} \\n')\n",
    "        \n",
    "t_carro1 = Thread(target=carro, args=[1, 'Bruno']) # thread da primeira execução da função\n",
    "t_carro2 = Thread(target=carro, args=[2, 'Python']) # thread da segunda execução da função\n",
    "\n",
    "t_carro1.start()\n",
    "                    # Execuções da função simultâneas - quando o Piloto de velocidade maior chegar a 100, ele pára e só o outro executa\n",
    "t_carro2.start()"
   ]
  },
  {
   "cell_type": "markdown",
   "metadata": {},
   "source": [
    "9 - Manipulação de IPs e Redes"
   ]
  },
  {
   "cell_type": "code",
   "execution_count": 7,
   "metadata": {},
   "outputs": [
    {
     "name": "stdout",
     "output_type": "stream",
     "text": [
      "192.168.0.1\n",
      "192.168.1.1\n"
     ]
    }
   ],
   "source": [
    "import ipaddress # biblioteca que permite manipular e realizar cálculos com IPs e redes\n",
    "\n",
    "ip = '192.168.0.1' # a variável recebe um IP no formato string\n",
    "\n",
    "endereco = ipaddress.ip_address(ip) # converte a string em um endereço IP\n",
    "\n",
    "print(endereco) # imprime o IP informado\n",
    "\n",
    "print(endereco + 256) # adiciona 256 ao IP e gera um número de IP novo"
   ]
  },
  {
   "cell_type": "code",
   "execution_count": null,
   "metadata": {},
   "outputs": [],
   "source": [
    "import ipaddress\n",
    "\n",
    "ip = '192.168.0.0/24' # atribui à string uma refencia de rede no formato string\n",
    "\n",
    "rede = ipaddress.ip_network(ip) # converte a string em uma referência de rede\n",
    "\n",
    "print(rede) # imprime a referencia de rede\n",
    "\n",
    "ip2 = '192.168.0.0/16'\n",
    "rede2 = ipaddress.ip_network(ip2, strict=False) # strict=False - permite que a rede seja identificada de forma correta mesmo se o IP estiver fora do padrão\n",
    "for ip in rede2: # vai imprimir todos os IPs da Rede 16\n",
    "    print(ip)"
   ]
  },
  {
   "cell_type": "markdown",
   "metadata": {},
   "source": [
    "### 10 - Gerador de Hashes:"
   ]
  },
  {
   "cell_type": "code",
   "execution_count": 15,
   "metadata": {},
   "outputs": [
    {
     "name": "stdout",
     "output_type": "stream",
     "text": [
      "O hash da string é: 45cb35c19e588192dd3824d192e7ab27\n"
     ]
    }
   ],
   "source": [
    "import hashlib # biblioteca que permite a geração e manipulação de hashes\n",
    "\n",
    "resultado = hashlib.md5(b'Python Security') # o método hashlib.md5() gera a hash para a string passada pelo algorítmo md5\n",
    "\n",
    "print(f'O hash da string é: {resultado.hexdigest()}')"
   ]
  },
  {
   "cell_type": "code",
   "execution_count": 20,
   "metadata": {},
   "outputs": [
    {
     "name": "stdout",
     "output_type": "stream",
     "text": [
      "O hash de Batman é 4a4566696cc81c6053ec708975767498\n"
     ]
    }
   ],
   "source": [
    "# Cógigo com Input:\n",
    "\n",
    "import hashlib\n",
    "\n",
    "string = input(\"Digite o texto a ser criptografado: \")\n",
    "\n",
    "resultado = hashlib.md5(string.encode('utf-8')) # encoda o texto para utf-8 e gera a hash com o algorítmo md5\n",
    "\n",
    "print(f'O hash de {string} é {resultado.hexdigest()}')"
   ]
  },
  {
   "cell_type": "code",
   "execution_count": null,
   "metadata": {},
   "outputs": [],
   "source": [
    "# Código com Menu de Escolha do Algoritmo para a Criptografia:\n",
    "\n",
    "import hashlib\n",
    "\n",
    "string = input('Digite o texto a ser criptografado: ')\n",
    "\n",
    "menu = int(input( '''MENU - ESCOLHA O TIPO DE HASH:\n",
    "                        1) MD5\n",
    "                        2) SHA1\n",
    "                        3) SHA256\n",
    "                        4) SHA512\n",
    "                        Digite o número da hash a ser gerada: '''))\n",
    "\n",
    "def gerador(string, menu):\n",
    "    if menu == 1:\n",
    "        resultado = hashlib.md5(string.encode('utf-8'))\n",
    "        print(f'O hash MD5 de {string} é {resultado.hexdigest()}')\n",
    "    elif menu == 2:\n",
    "        resultado = hashlib.sha1(string.encode('utf-8'))\n",
    "        print(f'O hash SHA1 de {string} é {resultado.hexdigest()}')\n",
    "    elif menu == 3:\n",
    "        resultado = hashlib.sha256(string.encode('utf-8'))\n",
    "        print(f'O hash SHA256 de {string} é {resultado.hexdigest()}')\n",
    "    elif menu == 4:\n",
    "        resultado = hashlib.sha512(string.encode('utf-8'))\n",
    "        print(f'O hash SHA512 de {string} é {resultado.hexdigest()}')\n",
    "    else:\n",
    "        print('Algo deu errado.')\n",
    "        \n",
    "gerador(string, menu)\n",
    "\n",
    "gerador(\"bruno\", 1)\n",
    "gerador(\"bruno\", 2)\n",
    "gerador(\"bruno\", 3)\n",
    "gerador(\"bruno\", 3)"
   ]
  },
  {
   "cell_type": "markdown",
   "metadata": {},
   "source": [
    "### 11 - Gerador de Wordlists:"
   ]
  },
  {
   "cell_type": "code",
   "execution_count": null,
   "metadata": {},
   "outputs": [],
   "source": [
    "import itertools # biblioteca que fornece condições para fazer iterações com caracteres, como combinações e permutações\n",
    "\n",
    "string = input('Digite a palavra a ser permutada: ')\n",
    "\n",
    "resultado = itertools.permutations(string, len(string)) # recebe o método que fará as permutações dos caracteres das strings informadas (string) pelo número de permutações (len(string))\n",
    "\n",
    "for i in resultado:\n",
    "    print(''.join(i)) # gerará e imprimirá cada palavra gerada pela permutação, recebendo cada caracter e adicionando até formar as palavras na quantidade de permutações informadas"
   ]
  },
  {
   "cell_type": "markdown",
   "metadata": {},
   "source": [
    "### 12 - Web Scraper:"
   ]
  },
  {
   "cell_type": "code",
   "execution_count": null,
   "metadata": {},
   "outputs": [],
   "source": [
    "from bs4 import BeautifulSoup # biblioteca que permite extrair dados de HTML e XML\n",
    "import requests # permite o envio de solicitações HTTP\n",
    "\n",
    "site = requests.get(\"https://www.climatempo.com.br/\").content # conecta ao site (.get) e coleta seu conteúdo (.content)\n",
    "\n",
    "soup = BeautifulSoup(site) # baixa o conteúdo do site no formato HTML e o armazena na variável\n",
    "\n",
    "print(soup.prettify()) # formata o html baixado (.prettify) e o imprime"
   ]
  },
  {
   "cell_type": "code",
   "execution_count": null,
   "metadata": {},
   "outputs": [],
   "source": [
    "from bs4 import BeautifulSoup # biblioteca que permite extrair dados de HTML e XML\n",
    "import requests # permite o envio de solicitações HTTP\n",
    "\n",
    "site = requests.get(\"https://www.climatempo.com.br/\").content # conecta ao site (.get) e coleta seu conteúdo (.content)\n",
    "\n",
    "soup = BeautifulSoup(site) # baixa o conteúdo do site no formato HTML e o armazena na variável\n",
    "\n",
    "print(soup.title.string) # imprime o título da página\n",
    "print(soup.a) # imprime o primeiro link da página\n",
    "print(soup.p.string) # imprime o primeiro paragrafo da página"
   ]
  },
  {
   "cell_type": "markdown",
   "metadata": {},
   "source": [
    "### 13 - Web Crawler:"
   ]
  },
  {
   "cell_type": "code",
   "execution_count": null,
   "metadata": {},
   "outputs": [],
   "source": [
    "import requests\n",
    "from bs4 import BeautifulSoup\n",
    "import operator\n",
    "from collections import Counter\n",
    "\n",
    "def start(url): # define o web crawler - recebe a URL do site\n",
    "    wordlist = [] # receberá o conteúdo da URL\n",
    "    \n",
    "    source_code = requests.get(url).text # faz a requisição do conteúdo do site\n",
    "    \n",
    "    soup = BeautifulSoup(source_code, features=\"html.parser\") # converte a requisição em conteúdo HTML\n",
    "    \n",
    "    for each_text in soup.findAll('div', {'class': 'entry-content'}):\n",
    "        content = each_text.text # vai transformar o conteúdo HTML em string onde houver a tag div\n",
    "        \n",
    "        words = content.lower().split() # vai colocar o conteúdo em letras minúsculas e vai quebrá-lo em linhas\n",
    "        \n",
    "        for each_word in words:\n",
    "            wordlist.append(each_word) # incluí o conteúdo extraído na wordlist\n",
    "            \n",
    "        clean_wordlist(wordlist) # remove os símbolos do conteúdo da wordlist\n",
    "        \n",
    "\n",
    "def clean_wordlist(wordlist):\n",
    "    clean_list = [] # receberá o conteúdo limpo da wordlist\n",
    "    \n",
    "    for word in wordlist:\n",
    "        symbols = '!@#$%^&*()_-+={}[]|\\;:\"<>/., ' # indica os símbolos que serão buscados\n",
    "        \n",
    "        for i in range(0, len(symbols)):\n",
    "            word = word.replace(symbols[i], '') # troca os símbolos por espaços vazios ''\n",
    "            \n",
    "        if len(word) > 0:\n",
    "            clean_list.append(word) # adiciona a palavra à clean_list se ela não for um espaço vazio\n",
    "            \n",
    "    create_dictionary(clean_list) # cria um dicionário com as palavras da clean_list\n",
    "    \n",
    "\n",
    "def create_dictionary(clean_list):\n",
    "    word_count = {} # receberá o dicionário com as palavras e suas contagens\n",
    "    \n",
    "    for word in clean_list:\n",
    "        if word in word_count:\n",
    "            word_count[word] += 1 # incrementa em 1 a contagem da palavra caso ela seja encontrada novamente na clean_list\n",
    "        else:\n",
    "            word_count[word] = 1 # se for a primeira vez que a palavra for encontrada, conta 1\n",
    "            \n",
    "    for key, value in sorted(word_count.items(), key = operator.itemgetter(1)):\n",
    "        print('%s : %s' %(key, value)) # constrói o dicionário com as palavras encontradas (key) e suas contagens (value)\n",
    "        \n",
    "    c = Counter(word_count) # conta as palavras e as ordena\n",
    "    \n",
    "    top = c.most_common(10) # armazena as 10 palavras que mais são encontradas no dicionário\n",
    "    \n",
    "    print(top) # imprime as 10 palavras que aparecem mais\n",
    "    \n",
    "\n",
    "if __name__ == '__main__':\n",
    "    start(\"https://www.geeksforgeeks.org/python-programming-language/?ref=leftbar\")"
   ]
  },
  {
   "cell_type": "markdown",
   "metadata": {},
   "source": [
    "### 14 - Verificador de Telefone (indica a localização):"
   ]
  },
  {
   "cell_type": "code",
   "execution_count": 5,
   "metadata": {},
   "outputs": [
    {
     "name": "stdout",
     "output_type": "stream",
     "text": [
      "Itaperuna - RJ\n"
     ]
    }
   ],
   "source": [
    "import phonenumbers # biblioteca que permite a manipulação de números de telefone\n",
    "from phonenumbers import geocoder # método que busca a localização do telefone\n",
    "\n",
    "phone = input('Digite o número no formato +5599999999999: ') # recebe o número de telefone desejado\n",
    "\n",
    "phone_number = phonenumbers.parse(phone) # converte o número recebido em número de telefone\n",
    "\n",
    "print(geocoder.description_for_number(phone_number, 'pt-br')) # imprime a localização do telefone com o idioma indicado (pt-br)"
   ]
  },
  {
   "cell_type": "markdown",
   "metadata": {},
   "source": [
    "### 15 - Ocultador de Arquivos/Diretórios"
   ]
  },
  {
   "cell_type": "code",
   "execution_count": null,
   "metadata": {},
   "outputs": [],
   "source": [
    "import ctypes # biblioteca que permite manipularmos objetos nos windows a níveis baixos\n",
    "\n",
    "atributo_ocultar = 0x02 # valor de atributo que oculta o arquivo/diretório\n",
    "\n",
    "arq = input('digite o arquivo e extensao:')\n",
    "\n",
    "retorno = ctypes.windll.Kernel32.SetFileAttributesW(arq, atributo_ocultar) # oculta o arquivo\n",
    "\n",
    "if retorno: #true\n",
    "    print('Arquivo foi ocultado')\n",
    "else:\n",
    "    print('Arquivo não foi ocultado')"
   ]
  },
  {
   "cell_type": "markdown",
   "metadata": {},
   "source": [
    "### 16 - Verificador de IP Externo:"
   ]
  },
  {
   "cell_type": "code",
   "execution_count": null,
   "metadata": {},
   "outputs": [],
   "source": [
    "import re # biblioteca que permite a utilização de expressões regulares - regex\n",
    "import json # biblioteca que permite a manipulação de arquivos .json\n",
    "from urllib.request import urlopen # classe que permite o carregamento de URLs no código\n",
    "\n",
    "url = 'https://ipinfo.io/json' # recebe a string da URL\n",
    "\n",
    "resposta = urlopen(url) # abre a URL no código\n",
    "\n",
    "dados = json.load(resposta) # carrega os dados em javascript da URL\n",
    "\n",
    "# Extração dos dados da URL - indica a [key], armazena o value na variável\n",
    "ip = dados['ip']\n",
    "org = dados['org']\n",
    "cid = dados['city']\n",
    "pais = dados['country']\n",
    "regiao = dados['region']\n",
    "\n",
    "print('Detalhes do IP Externo:')\n",
    "print(f'IP: {ip} \\nRegião: {regiao} \\nPaís: {pais} \\nCidade: {cid} \\nOrganização: {org}')"
   ]
  },
  {
   "cell_type": "markdown",
   "metadata": {},
   "source": [
    "### 17 - Ferramenta Gráfica para Abrir o Navegador:"
   ]
  },
  {
   "cell_type": "code",
   "execution_count": 15,
   "metadata": {},
   "outputs": [],
   "source": [
    "import webbrowser\n",
    "from tkinter import * # carrega todos os métodos e classes do Tkinter\n",
    "\n",
    "root = Tk( ) # cria o objeto que representará a tela em si, deve ter um espaço no meio dos () e não tem nome\n",
    "\n",
    "root.title('Abrir Browser') # define o título da janela\n",
    "root.geometry('300x200') # define as dimensões da janela\n",
    "\n",
    "def google(): # define a função que será executada pela janela\n",
    "    webbrowser.open('www.google.com.br') # abre a url especificada\n",
    "\n",
    "mygoogle = Button(root, text='Abrir o Google', command=google).pack(pady=20) # cria um botão na janela onde root = janela, text = título do botão, command = função que será executada, pack(pady=) = posição do botão\n",
    "\n",
    "root.mainloop() # método que abre a janela para ser utilizada"
   ]
  }
 ],
 "metadata": {
  "interpreter": {
   "hash": "d37f61ffe7d685a1ac48b1d7774f291cdee1834edd502e25b8d0651861a5e209"
  },
  "kernelspec": {
   "display_name": "Python 3.9.9 64-bit",
   "language": "python",
   "name": "python3"
  },
  "language_info": {
   "codemirror_mode": {
    "name": "ipython",
    "version": 3
   },
   "file_extension": ".py",
   "mimetype": "text/x-python",
   "name": "python",
   "nbconvert_exporter": "python",
   "pygments_lexer": "ipython3",
   "version": "3.9.9"
  },
  "orig_nbformat": 4
 },
 "nbformat": 4,
 "nbformat_minor": 2
}
