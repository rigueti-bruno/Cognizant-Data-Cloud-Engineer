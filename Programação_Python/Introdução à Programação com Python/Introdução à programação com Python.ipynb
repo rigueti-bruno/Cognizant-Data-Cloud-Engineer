{
 "cells": [
  {
   "cell_type": "markdown",
   "metadata": {},
   "source": [
    "### 1 - Introdução"
   ]
  },
  {
   "cell_type": "code",
   "execution_count": 2,
   "metadata": {},
   "outputs": [
    {
     "name": "stdout",
     "output_type": "stream",
     "text": [
      "meu primeiro programa em Python\n",
      "3\n"
     ]
    }
   ],
   "source": [
    "print('meu primeiro programa em Python')\n",
    "a = 1\n",
    "b = 2\n",
    "soma = a + b\n",
    "print(soma)"
   ]
  },
  {
   "cell_type": "markdown",
   "metadata": {},
   "source": [
    "### 2 - Variáveis, Operadores Aritméticos e Interação com o Usuário"
   ]
  },
  {
   "cell_type": "markdown",
   "metadata": {},
   "source": [
    "#### Operadores Aritméticos"
   ]
  },
  {
   "cell_type": "code",
   "execution_count": null,
   "metadata": {},
   "outputs": [],
   "source": [
    "# Variáveis:\n",
    "a = 10\n",
    "b = 5\n",
    "\n",
    "# Operações:\n",
    "soma = a + b\n",
    "\n",
    "subtracao = a - b\n",
    "\n",
    "multiplicacao = a * b\n",
    "\n",
    "divisao = a / b\n",
    "\n",
    "resto = a % b #resto da divisão\n",
    "\n",
    "potencia = a ** b\n",
    "\n",
    "# Resultados:\n",
    "print(soma)\n",
    "print(subtracao)\n",
    "print(multiplicacao)\n",
    "print(divisao)\n",
    "print(resto)\n",
    "print(potencia)"
   ]
  },
  {
   "cell_type": "markdown",
   "metadata": {},
   "source": [
    "#### Saber o Tipo de Dado de uma Variável"
   ]
  },
  {
   "cell_type": "code",
   "execution_count": null,
   "metadata": {},
   "outputs": [],
   "source": [
    "# Usamos a função \"type\":\n",
    "\n",
    "print(type(soma))"
   ]
  },
  {
   "cell_type": "markdown",
   "metadata": {},
   "source": [
    "#### Conversão de Tipos de Dados das Variáveis"
   ]
  },
  {
   "cell_type": "code",
   "execution_count": null,
   "metadata": {},
   "outputs": [],
   "source": [
    "# Converter para o tipo String - str():\n",
    "soma = str(soma)\n",
    "print(type(soma))\n",
    "\n",
    "print('soma = ' + soma)\n",
    "\n",
    "# Converter para o tipo Inteiro - int():\n",
    "divisao = int(divisao)\n",
    "print(type(divisao))\n",
    "print(divisao)\n",
    "\n",
    "# Podemos converter a variável direto no print:\n",
    "print('subtração = ' + str(subtracao))\n",
    "\n",
    "# Podemos ainda concatenar texto com variáveis com a função .format():\n",
    "print('multiplicação = {}'.format(multiplicacao))\n",
    "\n",
    "# Incluindo variaveis na mesma linha de texto com 'alias':\n",
    "print('Soma = {soma} . Subtração = {subtracao}'.format(subtracao=subtracao, soma=soma))\n",
    "\n",
    "# Imprimir o resultado em múltiplas linha - '\\n':\n",
    "print('Soma = {soma}, \\nMultiplicação = {multiplicacao}'.format(multiplicacao=multiplicacao, soma=soma))\n",
    "\n",
    "# Podemos ainda concatenar variáveis com texto colocando f'' no print, sem precisar da função .format():\n",
    "print(f'soma = {soma} \\nsubtração = {subtracao}')"
   ]
  },
  {
   "cell_type": "markdown",
   "metadata": {},
   "source": [
    "#### Interação com o Usuário"
   ]
  },
  {
   "cell_type": "code",
   "execution_count": null,
   "metadata": {},
   "outputs": [],
   "source": [
    "# Utilizamos a função input() para solicitar valores ao usuário:\n",
    "c = input()\n",
    "d = input()\n",
    "\n",
    "# Podemos incluir um texto dentro da função input() para passar uma pergunta ou instrução ao usuário:\n",
    "e = input('Insira o 1º valor: ')\n",
    "f = input('Insira o 2º valor: ')\n",
    "print(type(e), type(f))\n",
    "\n",
    "# Independente do valor que o usuário informar, a função input() atribuirá uma string à variável. Precisamos fazer uma conversão para atribuir o valor correto:\n",
    "\n",
    "g = int(input('insira o valor 1: '))\n",
    "h = int(input('insira o valor 2: '))\n",
    "#print(type(g), type(h))\n",
    "\n",
    "sum = g + h\n",
    "sub = g - h\n",
    "rest = g % h\n",
    "print(f'valor 1 = {g} \\nvalor 2 = {h} \\nSoma = {sum} \\nSubtração = {sub} \\nResto = {rest}')"
   ]
  },
  {
   "cell_type": "markdown",
   "metadata": {},
   "source": [
    "### 3 - Relações entre Variáveis"
   ]
  },
  {
   "cell_type": "markdown",
   "metadata": {},
   "source": [
    "#### Condicional - Comando IF"
   ]
  },
  {
   "cell_type": "code",
   "execution_count": null,
   "metadata": {},
   "outputs": [],
   "source": [
    "# Variáveis:\n",
    "a = int(input('Primeiro valor: '))\n",
    "b = int(input('Segundo valor: '))\n",
    "\n",
    "if a > b:\n",
    "    print('o maior valor é {}'.format(a))\n",
    "print('final do código')"
   ]
  },
  {
   "cell_type": "markdown",
   "metadata": {},
   "source": [
    "#### Condicional - Comando ELSE:"
   ]
  },
  {
   "cell_type": "code",
   "execution_count": null,
   "metadata": {},
   "outputs": [],
   "source": [
    "# Variáveis:\n",
    "a = int(input('Primeiro valor: '))\n",
    "b = int(input('Segundo valor: '))\n",
    "\n",
    "if a > b:\n",
    "    print('o maior valor é {}'.format(a))\n",
    "else:\n",
    "    print('o maior valor é {}'.format(b))\n",
    "print('final do código')"
   ]
  },
  {
   "cell_type": "markdown",
   "metadata": {},
   "source": [
    "#### Operadores Lógicos e Condiconal - Comando ELIF:"
   ]
  },
  {
   "cell_type": "code",
   "execution_count": null,
   "metadata": {},
   "outputs": [],
   "source": [
    "# Variáveis:\n",
    "a = int(input('Primeiro valor: '))\n",
    "b = int(input('Segundo valor: '))\n",
    "c = int(input('Terceiro valor: '))\n",
    "\n",
    "if a > b and a > c:\n",
    "    print('o maior valor é {}'.format(a))\n",
    "elif b > a and b > c:\n",
    "    print('o maior valor é {}'.format(b))\n",
    "else:\n",
    "    print('o maior valor é {}'.format(c))\n",
    "print('final do código')"
   ]
  },
  {
   "cell_type": "markdown",
   "metadata": {},
   "source": [
    "#### Operadores Lógicos e de Comparação:"
   ]
  },
  {
   "cell_type": "code",
   "execution_count": null,
   "metadata": {},
   "outputs": [],
   "source": [
    "# Variáveis:\n",
    "a = int(input('Insira um valor: '))\n",
    "resto = a % 2\n",
    "\n",
    "# Verifica se o número é par:\n",
    "if resto == 0:\n",
    "    print('o número é par!')\n",
    "else:\n",
    "    print('o número é impar!')"
   ]
  },
  {
   "cell_type": "code",
   "execution_count": null,
   "metadata": {},
   "outputs": [],
   "source": [
    "# Variáveis:\n",
    "a = int(input('insira o primeiro valor: '))\n",
    "b = int(input('insira o segundo valor: '))\n",
    "resto_a = a % 2\n",
    "resto_b = b % 2\n",
    "\n",
    "# Verifica se algum número par foi digitado:\n",
    "if resto_a == 0 or resto_b == 0:\n",
    "    print('foi digitado pelo menos um número par!')\n",
    "else:\n",
    "    print('não foi digitado nenhum número par.')"
   ]
  },
  {
   "cell_type": "code",
   "execution_count": null,
   "metadata": {},
   "outputs": [],
   "source": [
    "# Variáveis:\n",
    "a = int(input('Insira um valor: '))\n",
    "resto = a % 2\n",
    "\n",
    "# Verifica se o número é par - operador not:\n",
    "if not resto > 0:\n",
    "    print('o número é par!')\n",
    "else:\n",
    "    print('o número é impar!')"
   ]
  },
  {
   "cell_type": "code",
   "execution_count": null,
   "metadata": {},
   "outputs": [],
   "source": [
    "# Variáveis:\n",
    "a = int(input('Primeiro Bimestre: '))\n",
    "b = int(input('Segundo Bimestre: '))\n",
    "c = int(input('Terceiro Bimestre: '))\n",
    "d = int(input('Quarto Bimestre: '))\n",
    "\n",
    "# Calculo da média:\n",
    "media = (a + b + c + d) / 4\n",
    "\n",
    "# Prevenir valores incorretos:\n",
    "\n",
    "if a <= 10 and b <= 10 and c <= 10 and d <= 10:\n",
    "    print(f'média = {media}')\n",
    "else:\n",
    "    print('alguma nota foi digitada errada')"
   ]
  },
  {
   "cell_type": "code",
   "execution_count": null,
   "metadata": {},
   "outputs": [],
   "source": [
    "# Variáveis - previnindo digitação incorreta no input:\n",
    "a = int(input('Primeiro Bimestre: '))\n",
    "if a > 10:\n",
    "    a = int(input('Valor incorreto. Digite novamente. \\nPrimeiro Bimestre: '))\n",
    "b = int(input('Segundo Bimestre: '))\n",
    "if b > 10:\n",
    "    b = int(input('Valor incorreto. Digite novamente. \\nSegundo Bimestre: '))\n",
    "c = int(input('Terceiro Bimestre: '))\n",
    "if c > 10:\n",
    "    c = int(input('Valor incorreto. Digite novamente. \\nTerceiro Bimestre: '))\n",
    "d = int(input('Quarto Bimestre: '))\n",
    "if d > 10:\n",
    "    d = int(input('Valor incorreto. Digite novamente. \\nQuarto Bimestre: '))\n",
    "\n",
    "# Calculo da média:\n",
    "media = (a + b + c + d) / 4\n",
    "\n",
    "print(f'média = {media}')"
   ]
  },
  {
   "cell_type": "markdown",
   "metadata": {},
   "source": [
    "### 4 - Criar Laços de Repetição"
   ]
  },
  {
   "cell_type": "markdown",
   "metadata": {},
   "source": [
    "#### Comando FOR:"
   ]
  },
  {
   "cell_type": "code",
   "execution_count": null,
   "metadata": {},
   "outputs": [],
   "source": [
    "# Imprimir uma sequencia de 100 números - a partir de 0:\n",
    "for x in range(100):\n",
    "    print(x)"
   ]
  },
  {
   "cell_type": "code",
   "execution_count": null,
   "metadata": {},
   "outputs": [],
   "source": [
    "# Imprimir uma sequencia de 100 números - a partir de 1:\n",
    "for x in range(1, 101):\n",
    "    print(x)"
   ]
  },
  {
   "cell_type": "code",
   "execution_count": null,
   "metadata": {},
   "outputs": [],
   "source": [
    "# Verificar se um número é primo:\n",
    "a = int(input('Insira um número: '))\n",
    "div = 0\n",
    "\n",
    "for x in range(1, a+1):\n",
    "    resto = a % x\n",
    "    if resto == 0:\n",
    "        div += 1\n",
    "\n",
    "if div == 2:\n",
    "    print(f'O número {a} é primo.')\n",
    "else:\n",
    "    print(f'O número {a} não é primo.')"
   ]
  },
  {
   "cell_type": "code",
   "execution_count": null,
   "metadata": {},
   "outputs": [],
   "source": [
    "# Imprimir apenas os números primos de uma sequência:\n",
    "a = int(input('Informe o último número: '))\n",
    "seq = []\n",
    "for num in range(a + 1):\n",
    "    div = 0\n",
    "    for x in range(1, num + 1):\n",
    "        resto = num % x\n",
    "        if resto == 0:\n",
    "            div += 1\n",
    "    if div == 2:\n",
    "        seq.append(num)\n",
    "        \n",
    "print(f'Números primos = {seq}')"
   ]
  },
  {
   "cell_type": "markdown",
   "metadata": {},
   "source": [
    "#### Comando WHILE:"
   ]
  },
  {
   "cell_type": "code",
   "execution_count": null,
   "metadata": {},
   "outputs": [],
   "source": [
    "# Imprimir os números menores que 10:\n",
    "\n",
    "a = 0\n",
    "\n",
    "while a < 10:\n",
    "    print(a)\n",
    "    a += 1"
   ]
  },
  {
   "cell_type": "code",
   "execution_count": 16,
   "metadata": {},
   "outputs": [
    {
     "name": "stdout",
     "output_type": "stream",
     "text": [
      "A média é 2.5\n"
     ]
    }
   ],
   "source": [
    "# Conferir as Notas antes de Calcular a Média:\n",
    "\n",
    "a = int(input('Entre com a Nota 1: '))\n",
    "while a > 10:\n",
    "    a = int(input('Nota inválida. Entre com a Nota 1: '))\n",
    "    \n",
    "b = int(input('Entre com a Nota 2: '))\n",
    "while b > 10:\n",
    "    b = int(input('Nota inválida. Entre com a Nota 2: '))\n",
    "    \n",
    "c = int(input('Entre com a Nota 3: '))\n",
    "while c > 10:\n",
    "    c = int(input('Nota inválida. Entre com a Nota 3: '))\n",
    "    \n",
    "d = int(input('Entre com a Nota 4: '))\n",
    "while d > 10:\n",
    "    d = int(input('Nota inválida. Entre com a Nota 4: '))\n",
    "    \n",
    "media = (a + b + c + d) / 4\n",
    "\n",
    "print(f'A média é {media}')"
   ]
  },
  {
   "cell_type": "markdown",
   "metadata": {},
   "source": [
    "### 5 - Listas e Tuplas"
   ]
  },
  {
   "cell_type": "markdown",
   "metadata": {},
   "source": [
    "#### Listas:"
   ]
  },
  {
   "cell_type": "code",
   "execution_count": null,
   "metadata": {},
   "outputs": [],
   "source": [
    "# Interagindo com os Itens de uma Lista:\n",
    "\n",
    "lista_animal = ['cachorro', 'gato', 'elefante']\n",
    "\n",
    "# Acessando um item de uma lista:\n",
    "x = lista_animal[1]\n",
    "print(x)\n",
    "\n",
    "print('...')\n",
    "\n",
    "# Interagindo com os itens de uma lista com o Laço FOR:\n",
    "\n",
    "for y in lista_animal:\n",
    "    print(y)"
   ]
  },
  {
   "cell_type": "code",
   "execution_count": null,
   "metadata": {},
   "outputs": [],
   "source": [
    "# Somando os valores de uma lista de números:\n",
    "\n",
    "lista = [1, 3, 5, 7]\n",
    "soma = 0\n",
    "\n",
    "for x in lista:\n",
    "    #print(x)\n",
    "    soma += x    \n",
    "print(soma)\n",
    "\n",
    "\n",
    "# Somando os itens de uma lista com a função sum():\n",
    "\n",
    "y = sum(lista)\n",
    "print(f'Soma = {y}')\n",
    "\n",
    "# Buscar o item de maior valor - função max():\n",
    "a = max(lista)\n",
    "print(f'Maior valor = {a}')\n",
    "\n",
    "# Buscar o item de menor valor - função min():\n",
    "b = min(lista)\n",
    "print(f'Menor valor = {b}')"
   ]
  },
  {
   "cell_type": "code",
   "execution_count": null,
   "metadata": {},
   "outputs": [],
   "source": [
    "# Buscar itens em uma lista:\n",
    "lista_animal = ['cachorro', 'gato', 'elefante']\n",
    "\n",
    "c = input('Insira o nome de um animal: ')\n",
    "\n",
    "if c in lista_animal:\n",
    "    print(f'existe {c} na lista')\n",
    "else:\n",
    "    print(f'não existe {c} na lista')\n"
   ]
  },
  {
   "cell_type": "code",
   "execution_count": null,
   "metadata": {},
   "outputs": [],
   "source": [
    "# Multiplicando valores de uma lista - criando uma nova lista: - repete n vezes os itens da lista\n",
    "\n",
    "# Lista de Strings:\n",
    "lista_animal = ['cachorro', 'gato', 'elefante']\n",
    "\n",
    "nova_lista = lista_animal * 3\n",
    "\n",
    "print(nova_lista)\n",
    "\n",
    "# Lista numérica:\n",
    "lista = [1, 3, 5, 7]\n",
    "\n",
    "new_lista = lista * 3\n",
    "\n",
    "print(new_lista)"
   ]
  },
  {
   "cell_type": "code",
   "execution_count": null,
   "metadata": {},
   "outputs": [],
   "source": [
    "# Incluindo Itens na Lista - método .append():\n",
    "\n",
    "lista_animal = ['cachorro', 'gato', 'elefante']\n",
    "\n",
    "if 'lobo' in lista_animal:\n",
    "    print('existe lobo na lista')\n",
    "else:\n",
    "    print('não existe lobo na lista - vamos incluir:')\n",
    "    lista_animal.append('lobo')\n",
    "    print(f'nova lista: {lista_animal}')\n",
    "    \n",
    "# Excluindo o último item de uma lista - método pop():\n",
    "\n",
    "lista_animal.pop()\n",
    "print(lista_animal)\n",
    "\n",
    "# Excluindo um item especificando sua posição:\n",
    "\n",
    "lista_animal.pop(0) #exclui o primeiro item da lista\n",
    "print(lista_animal)\n",
    "\n",
    "# Excluindo um item especificando seu nome - método remove():\n",
    "\n",
    "lista_animal.remove('elefante') #exclui item elefante da lista\n",
    "print(lista_animal)\n",
    "\n",
    "# Alterando valores específicos na lista:\n",
    "\n",
    "lista_animal[0] = 'macaco'\n",
    "print(lista_animal)"
   ]
  },
  {
   "cell_type": "code",
   "execution_count": null,
   "metadata": {},
   "outputs": [],
   "source": [
    "# Ordenando listas - método sort():\n",
    "\n",
    "lista = [12, 10, 7, 5]\n",
    "\n",
    "lista_animal = ['cachorro', 'gato', 'elefante', 'lobo', 'arara']\n",
    "\n",
    "lista.sort()\n",
    "print(lista)\n",
    "\n",
    "lista_animal.sort()\n",
    "print(lista_animal)\n",
    "\n",
    "# Ordenar listas em ordem inversa - método reverse():\n",
    "\n",
    "lista.reverse()\n",
    "print(lista)\n",
    "\n",
    "lista_animal.reverse()\n",
    "print(lista_animal)"
   ]
  },
  {
   "cell_type": "markdown",
   "metadata": {},
   "source": [
    "#### Tuplas:"
   ]
  },
  {
   "cell_type": "code",
   "execution_count": 1,
   "metadata": {},
   "outputs": [
    {
     "name": "stdout",
     "output_type": "stream",
     "text": [
      "(1, 10, 12, 14)\n",
      "4\n",
      "5\n"
     ]
    }
   ],
   "source": [
    "# Criando uma Tupla:\n",
    "tupla = (1, 10, 12, 14)\n",
    "print(tupla)\n",
    "\n",
    "# Contando a quantidade de itens de uma tupla - função len() - serve para contar os itens de uma lista também:\n",
    "x = len(tupla)\n",
    "print(x)\n",
    "\n",
    "lista_animal = ['cachorro', 'gato', 'elefante', 'lobo', 'arara']\n",
    "y = len(lista_animal)\n",
    "print(y)"
   ]
  },
  {
   "cell_type": "code",
   "execution_count": null,
   "metadata": {},
   "outputs": [],
   "source": [
    "# Converter Lista em Tupla - função tuple():\n",
    "lista_animal = ['cachorro', 'gato', 'elefante', 'lobo', 'arara']\n",
    "\n",
    "tupla_animal = tuple(lista_animal)\n",
    "print(type(tupla_animal))\n",
    "print(tupla_animal)\n",
    "\n",
    "# Converter Tupla em Lista - função list():\n",
    "tupla_numeros = (1, 10, 12, 14)\n",
    "\n",
    "lista_numeros = list(tupla_numeros)\n",
    "print(type(lista_numeros))\n",
    "print(lista_numeros)\n"
   ]
  },
  {
   "cell_type": "markdown",
   "metadata": {},
   "source": [
    "### 6 - Conjuntos"
   ]
  },
  {
   "cell_type": "markdown",
   "metadata": {},
   "source": [
    "#### O que são Conjuntos:"
   ]
  },
  {
   "cell_type": "code",
   "execution_count": 4,
   "metadata": {},
   "outputs": [
    {
     "name": "stdout",
     "output_type": "stream",
     "text": [
      "<class 'set'>\n"
     ]
    }
   ],
   "source": [
    "# Os conjuntos têm seus elementos envolvidos por {}:\n",
    "conjunto = {1, 2, 3, 4}\n",
    "print(type(conjunto))"
   ]
  },
  {
   "cell_type": "code",
   "execution_count": 6,
   "metadata": {},
   "outputs": [
    {
     "name": "stdout",
     "output_type": "stream",
     "text": [
      "{1, 2, 3, 4, 5}\n",
      "{1, 2, 4, 5}\n"
     ]
    }
   ],
   "source": [
    "# Adicionar elementos ao conjunto - método .add():\n",
    "conjunto.add(5)\n",
    "print(conjunto)\n",
    "\n",
    "# Remover elementos do conjunto - método .discard():\n",
    "conjunto.discard(3)\n",
    "print(conjunto)"
   ]
  },
  {
   "cell_type": "markdown",
   "metadata": {},
   "source": [
    "#### Método de União de Conjuntos:"
   ]
  },
  {
   "cell_type": "code",
   "execution_count": 7,
   "metadata": {},
   "outputs": [
    {
     "name": "stdout",
     "output_type": "stream",
     "text": [
      "{1, 2, 3, 4, 5, 6, 7, 8}\n"
     ]
    }
   ],
   "source": [
    "conjunto = {1, 2, 3, 4, 5}\n",
    "\n",
    "conjunto2 = {5, 6, 7, 8}\n",
    "\n",
    "# União dos elementos de 2 conjuntos - método .union():\n",
    "# - reune os elementos em um unico conjunto\n",
    "# - elimina os elementos duplicados\n",
    "\n",
    "conjunto_uniao = conjunto.union(conjunto2)\n",
    "print(conjunto_uniao)"
   ]
  },
  {
   "cell_type": "markdown",
   "metadata": {},
   "source": [
    "#### Método de Interceção entre Conjuntos:"
   ]
  },
  {
   "cell_type": "code",
   "execution_count": 8,
   "metadata": {},
   "outputs": [
    {
     "name": "stdout",
     "output_type": "stream",
     "text": [
      "{5}\n"
     ]
    }
   ],
   "source": [
    "# Interseção dos elementos de 2 conjuntos - método .intersection():\n",
    "# - reúne em um novo conjunto apenas os elementos que se repetem nos 2 conjuntos\n",
    "\n",
    "conjunto_intersecao = conjunto.intersection(conjunto2)\n",
    "print(conjunto_intersecao)"
   ]
  },
  {
   "cell_type": "markdown",
   "metadata": {},
   "source": [
    "#### Método de Diferença entre Conjuntos:"
   ]
  },
  {
   "cell_type": "code",
   "execution_count": null,
   "metadata": {},
   "outputs": [],
   "source": [
    "# Elementos do conjunto que não estão contidos no outro conjunto - método .difference():\n",
    "# - exclui dos elementos do conjunto a interceção com o outro conjunto\n",
    "\n",
    "conjunto_diferenca = conjunto.difference(conjunto2)\n",
    "print(conjunto_diferenca)\n",
    "\n",
    "conjunto_diferenca2 = conjunto2.difference(conjunto)\n",
    "print(conjunto_diferenca2)"
   ]
  },
  {
   "cell_type": "markdown",
   "metadata": {},
   "source": [
    "#### Método da Diferença Simétrica:"
   ]
  },
  {
   "cell_type": "code",
   "execution_count": 10,
   "metadata": {},
   "outputs": [
    {
     "name": "stdout",
     "output_type": "stream",
     "text": [
      "{1, 2, 3, 4, 6, 7, 8}\n"
     ]
    }
   ],
   "source": [
    "# Reúne os elementos dos 2 conjuntos, excluindo a interceção - método .symmetric_difference():\n",
    "\n",
    "conjunto_dif_simetrica = conjunto.symmetric_difference(conjunto2)\n",
    "print(conjunto_dif_simetrica)"
   ]
  },
  {
   "cell_type": "markdown",
   "metadata": {},
   "source": [
    "#### Método de Pertinência:"
   ]
  },
  {
   "cell_type": "code",
   "execution_count": 17,
   "metadata": {},
   "outputs": [
    {
     "name": "stdout",
     "output_type": "stream",
     "text": [
      "a está contido em b: True\n",
      "b está contido em a: False\n"
     ]
    }
   ],
   "source": [
    "# Verifica se um conjunto é um subconjunto de outro conjunto: método .issubset()\n",
    "# - Verifica se o conjunto está Contido em outro conjunto\n",
    "# - retorna valores booleanos - true/false\n",
    "\n",
    "conjunto_a = {1, 2, 3}\n",
    "\n",
    "conjunto_b = {1, 2, 3, 4, 5}\n",
    "\n",
    "x = conjunto_a.issubset(conjunto_b)\n",
    "print(f'a está contido em b: {x}')\n",
    "\n",
    "y = x = conjunto_b.issubset(conjunto_a)\n",
    "print(f'b está contido em a: {y}')"
   ]
  },
  {
   "cell_type": "code",
   "execution_count": 18,
   "metadata": {},
   "outputs": [
    {
     "name": "stdout",
     "output_type": "stream",
     "text": [
      "b contém a: True\n",
      "a contém b: False\n"
     ]
    }
   ],
   "source": [
    "# Verifica se um conjunto Contém um outro conjunto: método .issuperset()\n",
    "\n",
    "z = conjunto_b.issuperset(conjunto_a)\n",
    "print(f'b contém a: {z}')\n",
    "\n",
    "k = conjunto_a.issuperset(conjunto_b)\n",
    "print(f'a contém b: {k}')"
   ]
  },
  {
   "cell_type": "markdown",
   "metadata": {},
   "source": [
    "#### Converter Lista em Conjunto:"
   ]
  },
  {
   "cell_type": "code",
   "execution_count": 19,
   "metadata": {},
   "outputs": [
    {
     "name": "stdout",
     "output_type": "stream",
     "text": [
      "{'cachorro', 'gato', 'elefante'}\n"
     ]
    }
   ],
   "source": [
    "# Para converter uma lista em conjunto utilizamos a função set():\n",
    "# - Converter listas em conjuntos é útil para eliminar duplicidades entre os elementos da lista\n",
    "\n",
    "lista = ['cachorro','cachorro','gato','gato','elefante']\n",
    "\n",
    "conjunto_animais = set(lista)\n",
    "print(conjunto_animais)"
   ]
  },
  {
   "cell_type": "code",
   "execution_count": null,
   "metadata": {},
   "outputs": [],
   "source": [
    "# Após eliminar as duplicidades, podemos converter o conjunto de volta para lista - função list():\n",
    "\n",
    "lista_animais = list(conjunto_animais)\n",
    "print(lista_animais)"
   ]
  },
  {
   "cell_type": "markdown",
   "metadata": {},
   "source": [
    "### 7 - Métodos, Funções e Classes"
   ]
  },
  {
   "cell_type": "markdown",
   "metadata": {},
   "source": [
    "#### Métodos e Funções:"
   ]
  },
  {
   "cell_type": "code",
   "execution_count": null,
   "metadata": {},
   "outputs": [],
   "source": [
    "# Define a função soma, que pode ser reaproveitado:\n",
    "def soma (a, b):\n",
    "    return a + b\n",
    "\n",
    "# Utilizando a função soma:\n",
    "print(soma(4, 5))\n",
    "print(soma(9, 3))\n",
    "print(soma(2, 14))\n",
    "\n",
    "# Função subtração:\n",
    "def sub (a, b):\n",
    "    return a - b\n",
    "\n",
    "# Utilizando a função sub:\n",
    "print(sub(4, 3))\n",
    "print(sub(24, 17))\n",
    "print(sub(33, 14))"
   ]
  },
  {
   "cell_type": "markdown",
   "metadata": {},
   "source": [
    "#### Classes:"
   ]
  },
  {
   "cell_type": "code",
   "execution_count": 8,
   "metadata": {},
   "outputs": [
    {
     "name": "stdout",
     "output_type": "stream",
     "text": [
      "12\n",
      "8\n",
      "20\n",
      "5.0\n"
     ]
    }
   ],
   "source": [
    "# As Classes podem reunir um conjunto de Métodos/Funções que podem ser reaproveitados:\n",
    "class Calculadora:\n",
    "    def __init__ (self, num1, num2): # recebe os valores informados na classe\n",
    "        self.a = num1 # relaciona o primeiro valor à variável a\n",
    "        self.b = num2 # relaciona o segundo valor à variável b\n",
    "    def soma (self): # função soma\n",
    "        return self.a + self.b\n",
    "    def sub (self): # função sub\n",
    "        return self.a - self.b\n",
    "    def mult (self): # função mult\n",
    "        return self.a * self.b\n",
    "    def div (self): # função div\n",
    "        return self.a / self.b\n",
    "    \n",
    "calc = Calculadora(10, 2) # indicação dos valores à classe Calculadora e atribuição da mesma à variável calc\n",
    "\n",
    "#print(calc.a) # acessando o primeiro valor\n",
    "print(calc.soma()) # acessando o resultado da função soma\n",
    "print(calc.sub()) # acessando o resultado da função sub\n",
    "print(calc.mult()) # acessando o resultado da função mult\n",
    "print(calc.div()) # acessando o resultado da função div"
   ]
  },
  {
   "cell_type": "code",
   "execution_count": 6,
   "metadata": {},
   "outputs": [
    {
     "name": "stdout",
     "output_type": "stream",
     "text": [
      "12\n",
      "8\n",
      "20\n",
      "5.0\n"
     ]
    }
   ],
   "source": [
    "# Podemos não instanciar os parâmetros de valor na função __init__ para informá-los diretamente nas funções:\n",
    "class Calculadora:\n",
    "    def __init__ (self): # instancia só o self\n",
    "        pass # passa só o parâmetro pass\n",
    "    def soma (self, a, b): # função soma\n",
    "        return a + b\n",
    "    def sub (self, a, b): # função sub\n",
    "        return a - b\n",
    "    def mult (self, a, b): # função mult\n",
    "        return a * b\n",
    "    def div (self, a, b): # função div\n",
    "        return a / b\n",
    "    \n",
    "calc = Calculadora() # atribuição apenas da classe a uma variável\n",
    "\n",
    "print(calc.soma(10, 2)) # informando os valores na função soma para executá-la\n",
    "print(calc.sub(10, 2)) # informando os valores na função sub para executá-la\n",
    "print(calc.mult(10, 2)) # informando os valores na função mult para executá-la\n",
    "print(calc.div(10, 2)) # informando os valores na função div para executá-la"
   ]
  },
  {
   "cell_type": "code",
   "execution_count": 10,
   "metadata": {},
   "outputs": [
    {
     "name": "stdout",
     "output_type": "stream",
     "text": [
      "Televisão ligada: False\n",
      "Televisão ligada: True\n",
      "Televisão ligada: False\n"
     ]
    }
   ],
   "source": [
    "# Classe que simula o botão de ligar/desligar de uma televisão:\n",
    "class Televisao:\n",
    "    def __init__(self):\n",
    "        self.ligada = False # inicia como a televisao estivesse desligada\n",
    "    def power (self):\n",
    "        if self.ligada:\n",
    "            self.ligada = False # se a televisão estiver liga, desliga\n",
    "        else:\n",
    "            self.ligada = True # se a televisão estiver desligada, liga\n",
    "            \n",
    "televisao = Televisao() # instancia a classe criada a uma variável\n",
    "\n",
    "print(f'Televisão ligada: {televisao.ligada}') # verifica o status - desligada: False\n",
    "televisao.power() # aperta o botão power\n",
    "print(f'Televisão ligada: {televisao.ligada}') # verifica o status - ligada: True\n",
    "televisao.power() # aperta o botão power\n",
    "print(f'Televisão ligada: {televisao.ligada}') # verifica o status - desligada: False"
   ]
  },
  {
   "cell_type": "code",
   "execution_count": null,
   "metadata": {},
   "outputs": [],
   "source": [
    "# Classe que simula o botão de ligar/desligar de uma televisão:\n",
    "class Televisao:\n",
    "    def __init__(self):\n",
    "        self.ligada = False # inicia como a televisao estivesse desligada\n",
    "        self.canal = 2 # inicia a televisao no canal 2\n",
    "    def power (self):\n",
    "        if self.ligada:\n",
    "            self.ligada = False # se a televisão estiver liga, desliga\n",
    "        else:\n",
    "            self.ligada = True # se a televisão estiver desligada, liga\n",
    "    \n",
    "    def aumenta_canal(self):\n",
    "        if self.ligada:\n",
    "            self.canal += 1 # incrementa o número do canal em 1, se a televisão estiver ligada\n",
    "    def diminui_canal(self):\n",
    "        if self.ligada:\n",
    "            self.canal -= 1 # decrementa o número do canal em 1, se a televisão estiver ligada\n",
    "            \n",
    "televisao = Televisao() # instancia a classe criada a uma variável\n",
    "\n",
    "print(f'Televisão ligada: {televisao.ligada}') # verifica o status - desligada: False\n",
    "televisao.power() # aperta o botão power\n",
    "print(f'Televisão ligada: {televisao.ligada}') # verifica o status - ligada: True\n",
    "televisao.power() # aperta o botão power\n",
    "print(f'Televisão ligada: {televisao.ligada}') # verifica o status - desligada: False\n",
    "\n",
    "print('...')\n",
    "\n",
    "print(f'Canal: {televisao.canal}') # verifica o canal atual\n",
    "televisao.power()\n",
    "televisao.aumenta_canal() # aumenta 1 canal\n",
    "televisao.aumenta_canal() # aumenta 1 canal\n",
    "print(f'Canal: {televisao.canal}') # verifica o canal atual\n",
    "televisao.diminui_canal() # diminui 1 canal\n",
    "print(f'Canal: {televisao.canal}') # verifica o canal atual"
   ]
  },
  {
   "cell_type": "markdown",
   "metadata": {},
   "source": [
    "### 8 - Módulos, Importação de Classes, Métodos e Funções Anônimas (Lambda)"
   ]
  },
  {
   "cell_type": "markdown",
   "metadata": {},
   "source": [
    "#### Importação de Classes, Métodos e Funções:"
   ]
  },
  {
   "cell_type": "code",
   "execution_count": null,
   "metadata": {},
   "outputs": [],
   "source": [
    "# Importa o módulo de outro arquivo:\n",
    "import aula7\n",
    "\n",
    "# Instancia uma classe do modulo importado:\n",
    "televisao = aula7.Televisao()\n",
    "\n",
    "# Executa métodos/funções da Classe importada:\n",
    "televisao.ligada\n",
    "televisao.power()\n",
    "televisao.ligada"
   ]
  },
  {
   "cell_type": "code",
   "execution_count": 10,
   "metadata": {},
   "outputs": [
    {
     "name": "stdout",
     "output_type": "stream",
     "text": [
      "16\n"
     ]
    }
   ],
   "source": [
    "# Contar as letras das palavras de uma lista:\n",
    "def contador_letras(lista_palavras):\n",
    "    contador = []\n",
    "    for x in lista_palavras:\n",
    "        quantidade = len(x)\n",
    "        contador.append(quantidade)\n",
    "    m = 0\n",
    "    for i in contador:\n",
    "        m += i\n",
    "    return m\n",
    "\n",
    "if __name__ == \"__main__\":\n",
    "    a = ['batman','super', 'frodo']\n",
    "    b = contador_letras(a)\n",
    "    print(b)"
   ]
  },
  {
   "cell_type": "markdown",
   "metadata": {},
   "source": [
    "#### Lambda - Funções Anônimas:"
   ]
  },
  {
   "cell_type": "code",
   "execution_count": 11,
   "metadata": {},
   "outputs": [
    {
     "name": "stdout",
     "output_type": "stream",
     "text": [
      "[9, 5, 4]\n"
     ]
    }
   ],
   "source": [
    "contador_let = lambda lista: [len(x) for x in lista]\n",
    "\n",
    "if __name__ == \"__main__\":\n",
    "    animal_list = ['wolverine', 'tiger', 'wolf']\n",
    "    a = contador_let(animal_list)\n",
    "    print(a)"
   ]
  },
  {
   "cell_type": "code",
   "execution_count": 14,
   "metadata": {},
   "outputs": [
    {
     "name": "stdout",
     "output_type": "stream",
     "text": [
      "Para os valores 10 e 6:\n",
      "Soma = 16\n",
      "Subtração = 4\n",
      "Multiplicação = 60\n",
      "Divisão = 1.67\n"
     ]
    }
   ],
   "source": [
    "# Operações Matemáticas com Lambda:\n",
    "\n",
    "soma = lambda a, b: a + b\n",
    "sub = lambda a, b: a - b\n",
    "mult = lambda a, b: a * b\n",
    "div = lambda a, b: a / b\n",
    "\n",
    "if __name__ == \"__main__\":\n",
    "    a = 10\n",
    "    b = 6\n",
    "    d = soma(a, b)\n",
    "    e = sub(a, b)\n",
    "    f = mult(a, b)\n",
    "    g = round(div(a, b), 2)\n",
    "    \n",
    "    print(f'Para os valores {a} e {b}:')\n",
    "    print(f'Soma = {d}')\n",
    "    print(f'Subtração = {e}')\n",
    "    print(f'Multiplicação = {f}')\n",
    "    print(f'Divisão = {g}')"
   ]
  },
  {
   "cell_type": "code",
   "execution_count": null,
   "metadata": {},
   "outputs": [],
   "source": [
    "# Dicionário de Funções Lambda:\n",
    "calculadora = {\n",
    "    'soma' : lambda a, b: a + b,\n",
    "    'sub' : lambda a, b: a - b,\n",
    "    'mult' : lambda a, b: a * b,\n",
    "    'div' : lambda a, b: a / b,\n",
    "}\n",
    "\n",
    "if __name__ == \"__main__\":\n",
    "    soma = calculadora['soma']\n",
    "    subtracao = calculadora['sub']\n",
    "    multiplicacao = calculadora['mult']\n",
    "    divisao = calculadora['div']\n",
    "    \n",
    "    print(soma(10, 20))"
   ]
  },
  {
   "cell_type": "markdown",
   "metadata": {},
   "source": [
    "### 9 - Gerar, Copiar, Mover, Escrever e Ler Arquivos Externos"
   ]
  },
  {
   "cell_type": "markdown",
   "metadata": {},
   "source": [
    "#### Criando um Arquivo:"
   ]
  },
  {
   "cell_type": "code",
   "execution_count": 1,
   "metadata": {},
   "outputs": [
    {
     "data": {
      "text/plain": [
       "<_io.TextIOWrapper name='texto.txt' mode='w' encoding='cp1252'>"
      ]
     },
     "execution_count": 1,
     "metadata": {},
     "output_type": "execute_result"
    }
   ],
   "source": [
    "# Criando um Arquivo:\n",
    "\n",
    "open('texto.txt', 'w') # após a execução do código o arquivo é criado com a extensão informada\n"
   ]
  },
  {
   "cell_type": "markdown",
   "metadata": {},
   "source": [
    "#### Escrevendo no Arquivo:"
   ]
  },
  {
   "cell_type": "code",
   "execution_count": 2,
   "metadata": {},
   "outputs": [],
   "source": [
    "# Escrevendo no arquivo já criado ou ao mesmo tempo que um novo arquivo é criado:\n",
    "\n",
    "arquivo = open('texto.txt', 'w') # o arquivo é instanciado em uma variável\n",
    "arquivo.write('Minha primeira escrita.') # A escrita é feita utilizando o método .write() na variável\n",
    "arquivo.close() # Após concluir a escrita, é recomendado fechar o arquivo com o método .close()"
   ]
  },
  {
   "cell_type": "code",
   "execution_count": 4,
   "metadata": {},
   "outputs": [],
   "source": [
    "# Para atualizar um arquivo já criado devemos carregá-lo com o mode = 'a':\n",
    "\n",
    "arquivo = open('texto.txt', 'a')\n",
    "arquivo.write('\\nTerceira Linha') # Para escrever novas linhas, basta atualizar o texto nessa linha\n",
    "arquivo.close()"
   ]
  },
  {
   "cell_type": "code",
   "execution_count": 6,
   "metadata": {},
   "outputs": [],
   "source": [
    "# Métodos para Criação e Atualização de Arquivos:\n",
    "\n",
    "# Método para Criar um Arquivo:\n",
    "def criar(texto):\n",
    "    arquivo = open('teste.txt', 'w')\n",
    "    arquivo.write(texto)\n",
    "    arquivo.close()\n",
    "\n",
    "# Método para Atualizar um Arquivo:    \n",
    "def atualizar(texto):\n",
    "    arquivo = open('teste.txt', 'a')\n",
    "    arquivo.write(texto)\n",
    "    arquivo.close()\n",
    "    \n",
    "#Testes:\n",
    "if __name__ == \"__main__\":\n",
    "    criar('Herois:\\n')\n",
    "    atualizar('Batman\\n')\n",
    "    atualizar('Sherlock Holmes\\n')\n",
    "    atualizar('Jack Reacher\\n')\n",
    "    atualizar('Sheldon Cooper\\n')\n",
    "    "
   ]
  },
  {
   "cell_type": "markdown",
   "metadata": {},
   "source": [
    "#### Lendo um Arquivo:"
   ]
  },
  {
   "cell_type": "code",
   "execution_count": null,
   "metadata": {},
   "outputs": [],
   "source": [
    "# O arquivo deve ser carregado com o mode = r (read = ler):\n",
    "\n",
    "def ler(nome_arquivo):\n",
    "    arquivo = open(nome_arquivo, 'r') # carrega o arquivo - mode = r\n",
    "    texto = arquivo.read() # carrega o conteúdo do arquivo com o método .read()\n",
    "    print(texto) # imprime o conteúdo do arquivo\n",
    "\n",
    "# Teste:\n",
    "if __name__ == \"__main__\":\n",
    "    ler('teste.txt')"
   ]
  },
  {
   "cell_type": "markdown",
   "metadata": {},
   "source": [
    "#### Trabalhando com as Informações do Arquivo:"
   ]
  },
  {
   "cell_type": "code",
   "execution_count": 29,
   "metadata": {},
   "outputs": [],
   "source": [
    "# Criando um arquivo e definindo seu texto:\n",
    "\n",
    "def atualizar(nome, texto):\n",
    "    arquivo = open(nome, 'a')\n",
    "    arquivo.write(texto)\n",
    "    arquivo.close()\n",
    "    \n",
    "if __name__ == \"__main__\":\n",
    "    # aluno = '\\nCesar, 7, 9, 3, 8' # Informando um string com o nome e as 4 notas do aluno\n",
    "    # atualizar('notas.txt', aluno) # Executando o método para lançar as informações no arquivo\n",
    "    \n",
    "    aluno = (input('Insira o nome e as notas no aluno: ')) + '\\n' # Recebe um string com o nome e as 4 notas do aluno\n",
    "    atualizar('notas.txt', aluno) # Executa o método para lançar as informações no arquivo"
   ]
  },
  {
   "cell_type": "code",
   "execution_count": null,
   "metadata": {},
   "outputs": [],
   "source": [
    "# Calculando as Médias de um Arquivo de Notas de Alunos:\n",
    "\n",
    "def media_notas(nome_arquivo):\n",
    "    arquivo = open(nome_arquivo, 'r') # Lê o arquivo com as Notas\n",
    "    aluno_nota = arquivo.read() # Carrega o conteúdo do arquivo em uma variável\n",
    "    aluno_nota = aluno_nota.split('\\n') # Quebra o arquivo em uma Lista, dividindo os registro a cada quebra de linha ('\\n')\n",
    "    \n",
    "    lista_media = [] # lista que receberá as médias dos alunos\n",
    "    \n",
    "    for x in aluno_nota:\n",
    "        lista_notas = x.split(',') # Quebra cada registro da Lista de alunos em uma lista contendo as informações de cada aluno a cada ','\n",
    "        aluno = lista_notas[0]\n",
    "        #print(aluno) # Imprime o nome de cada aluno acessando a lista com seu registro\n",
    "        lista_notas.pop(0) # Retira o primeiro campo da lista de cada aluno - o nome\n",
    "        #print(lista_notas) # Imprime apenas as Notas do aluno\n",
    "        media = lambda notas: sum([int(i) for i in notas]) / 4 # Em uma única linha, com Lambda, converte cada nota em inteiro e calcula a média entre elas\n",
    "        #print(media(lista_notas)) # Imprime a média de cada aluno\n",
    "        lista_media.append({aluno: media(lista_notas)}) # Cria um dicionário relacionando os alunos e suas médias\n",
    "    return lista_media\n",
    "\n",
    "if __name__ == \"__main__\":\n",
    "    lista_media = media_notas('notas.txt') # Gerando as médias dos alunos do arquivo\n",
    "    print(lista_media) # imprimindo as médias dos alunos\n",
    "    \n",
    "    lista_media2 = str(lista_media)\n",
    "    print(lista_media2)\n",
    "    lista_media3 = lista_media2.split(',')\n",
    "    print(lista_media3)\n",
    "    \n",
    "    arquivo = open('medias.txt', 'w')\n",
    "    for i in lista_media3:\n",
    "        arquivo.write(i + '\\n')\n",
    "    arquivo.close()"
   ]
  },
  {
   "cell_type": "markdown",
   "metadata": {},
   "source": [
    "#### Copiar um Arquivo:"
   ]
  },
  {
   "cell_type": "code",
   "execution_count": 43,
   "metadata": {},
   "outputs": [],
   "source": [
    "# O método abaixo copia um arquivo para um Diretório especificado no código:\n",
    "\n",
    "def copia(nome_arquivo):\n",
    "    import shutil # importa a biblioteca com as funções de movimentação de arquivos \"shutil\"\n",
    "    shutil.copy(nome_arquivo, 'C:/GitHub/') # Copia o arquivo para o diretório especificado\n",
    "    \n",
    "if __name__ == \"__main__\":\n",
    "    copia('mover.py')"
   ]
  },
  {
   "cell_type": "markdown",
   "metadata": {},
   "source": [
    "#### Mover um Arquivo:"
   ]
  },
  {
   "cell_type": "code",
   "execution_count": 42,
   "metadata": {},
   "outputs": [],
   "source": [
    "# O método abaixo move um arquivo para um diretório especificado no código:\n",
    "\n",
    "def mover(nome_arquivo):\n",
    "    import shutil # importa a biblioteca com as funções de movimentação de arquivos \"shutil\"\n",
    "    shutil.move(nome_arquivo, 'C:/GitHub/') # Move o arquivo para o diretório especificado\n",
    "    \n",
    "   \n",
    "if __name__ == \"__main__\":\n",
    "    mover('medias.txt')"
   ]
  },
  {
   "cell_type": "markdown",
   "metadata": {},
   "source": [
    "### 10 - Utilizar informações de Data, Horário e Relacionar Datas Diferentes"
   ]
  },
  {
   "cell_type": "markdown",
   "metadata": {},
   "source": [
    "#### Data Atual:"
   ]
  },
  {
   "cell_type": "code",
   "execution_count": 1,
   "metadata": {},
   "outputs": [
    {
     "name": "stdout",
     "output_type": "stream",
     "text": [
      "2022-04-06\n"
     ]
    }
   ],
   "source": [
    "# Imprimindo a Data Atual:\n",
    "\n",
    "from datetime import date # importa a função \"date\" da biblioteca \"datetime\"\n",
    "\n",
    "data_atual = date.today() # carrega a data de agora com a função \"date\" e o método \"today()\"\n",
    "\n",
    "print(data_atual) # imprime a data atual no formado AAAA-MM-DD"
   ]
  },
  {
   "cell_type": "code",
   "execution_count": 5,
   "metadata": {},
   "outputs": [
    {
     "name": "stdout",
     "output_type": "stream",
     "text": [
      "Wednesday: 06 de April de 2022\n"
     ]
    }
   ],
   "source": [
    "# Formatando a Data:\n",
    "data_formatada = data_atual.strftime('%A: %d de %B de %Y') # converte para string de acordo como as diretrizes do python onformadas: '%d/%m/%y' = dia/mês/ano\n",
    "print(data_formatada)"
   ]
  },
  {
   "cell_type": "code",
   "execution_count": 6,
   "metadata": {},
   "outputs": [
    {
     "name": "stdout",
     "output_type": "stream",
     "text": [
      "Wednesday: 06 de April de 2022\n"
     ]
    }
   ],
   "source": [
    "# Definindo uma função para retornar a data atual:\n",
    "\n",
    "def data_formatada():\n",
    "    from datetime import date\n",
    "    data_atual = date.today()\n",
    "    data_formatada = data_atual.strftime('%A: %d de %B de %Y')\n",
    "    return data_formatada\n",
    "\n",
    "if __name__ == \"__main__\":\n",
    "    hoje = data_formatada()\n",
    "    print(hoje)"
   ]
  },
  {
   "cell_type": "markdown",
   "metadata": {},
   "source": [
    "#### Horário Informado:"
   ]
  },
  {
   "cell_type": "code",
   "execution_count": 7,
   "metadata": {},
   "outputs": [
    {
     "name": "stdout",
     "output_type": "stream",
     "text": [
      "15:18:30\n"
     ]
    }
   ],
   "source": [
    "# Construindo um horário:\n",
    "\n",
    "from datetime import time # importa a função \"time\" da biblioteca \"datetime\"\n",
    "\n",
    "horario = time(hour = 15, minute = 18, second = 30) # constrói um horário informado com os parâmetros hour, minute e second\n",
    "print(horario)"
   ]
  },
  {
   "cell_type": "code",
   "execution_count": 8,
   "metadata": {},
   "outputs": [
    {
     "name": "stdout",
     "output_type": "stream",
     "text": [
      "03:18:30 PM\n"
     ]
    }
   ],
   "source": [
    "# Formatando um hário:\n",
    "\n",
    "hora = horario.strftime('%I:%M:%S %p') # formata o horário de acordo com a diretitiva do Python informada: '%I:%M:%S %p'\n",
    "print(hora)"
   ]
  },
  {
   "cell_type": "code",
   "execution_count": 11,
   "metadata": {},
   "outputs": [
    {
     "name": "stdout",
     "output_type": "stream",
     "text": [
      "06:03:30 PM\n"
     ]
    }
   ],
   "source": [
    "def fhorario(h, m, s):\n",
    "    from datetime import time\n",
    "    horario = time(hour = h, minute = m, second = s)\n",
    "    hora = horario.strftime('%I:%M:%S %p')\n",
    "    return hora\n",
    "\n",
    "if __name__ == \"__main__\":\n",
    "    tempo = fhorario(18, 3, 30)\n",
    "    print(tempo)"
   ]
  },
  {
   "cell_type": "markdown",
   "metadata": {},
   "source": [
    "#### Retornando Data e Hora Atuais:"
   ]
  },
  {
   "cell_type": "code",
   "execution_count": 12,
   "metadata": {},
   "outputs": [
    {
     "name": "stdout",
     "output_type": "stream",
     "text": [
      "2022-04-06 16:27:19.949241\n"
     ]
    }
   ],
   "source": [
    "# Obtendo a Data e a Hora atuais:\n",
    "\n",
    "from datetime import datetime\n",
    "\n",
    "data_atual = datetime.now() # carrega a data e a hora atuais com a função \"datetime\" e o método \"now()\"\n",
    "print(data_atual)"
   ]
  },
  {
   "cell_type": "code",
   "execution_count": 13,
   "metadata": {},
   "outputs": [
    {
     "name": "stdout",
     "output_type": "stream",
     "text": [
      "Data: 06/04/22 \n",
      "Hora: 16:27:19\n"
     ]
    }
   ],
   "source": [
    "# Formatando a data e a hora atuais:\n",
    "\n",
    "temp1 = data_atual.strftime('%d/%m/%y') # extrai e formata a data atual\n",
    "\n",
    "temp2 = data_atual.strftime('%H:%M:%S') # extrai e formata o horário atual\n",
    "\n",
    "print(f'Data: {temp1} \\nHora: {temp2}')"
   ]
  },
  {
   "cell_type": "code",
   "execution_count": 14,
   "metadata": {},
   "outputs": [
    {
     "name": "stdout",
     "output_type": "stream",
     "text": [
      "Data: 06/04/22 \n",
      "Hora: 16:32:10\n"
     ]
    }
   ],
   "source": [
    "def tempo_atual():\n",
    "    from datetime import datetime\n",
    "    data_atual = datetime.now()\n",
    "    temp1 = data_atual.strftime('%d/%m/%y')\n",
    "    temp2 = data_atual.strftime('%H:%M:%S')\n",
    "    print(f'Data: {temp1} \\nHora: {temp2}')\n",
    "    \n",
    "\n",
    "if __name__ == \"__main__\":\n",
    "    tempo_atual()"
   ]
  },
  {
   "cell_type": "code",
   "execution_count": null,
   "metadata": {},
   "outputs": [],
   "source": [
    "# Extrair unidades de tempo:\n",
    "\n",
    "# Hora:\n",
    "hora = data_atual.hour\n",
    "minuto = data_atual.minute\n",
    "segundo = data_atual.second\n",
    "\n",
    "print('Horário:')\n",
    "print(f'hora: {hora}')\n",
    "print(minuto)\n",
    "print(segundo)\n",
    "\n",
    "print('...')\n",
    "\n",
    "# Data:\n",
    "dia = data_atual.day\n",
    "mes = data_atual.month\n",
    "ano = data_atual.year\n",
    "\n",
    "print('Data:')\n",
    "print(f'dia: {dia}')\n",
    "print(mes)\n",
    "print(ano)\n",
    "\n",
    "print('...')\n",
    "dia_semana = data_atual.weekday()\n",
    "data_completa = data_atual.date()\n",
    "hora_completa = data_atual.time()\n",
    "\n",
    "print(f'dia da semana: {dia_semana}')\n",
    "print(data_completa)\n",
    "print(hora_completa)"
   ]
  },
  {
   "cell_type": "code",
   "execution_count": 26,
   "metadata": {},
   "outputs": [
    {
     "name": "stdout",
     "output_type": "stream",
     "text": [
      "Quarta\n"
     ]
    }
   ],
   "source": [
    "# Obter o dia da semana traduzido:\n",
    "def trad_dia():\n",
    "    from datetime import datetime\n",
    "    data_atual = datetime.now()\n",
    "    tupla = ('Segunda', 'Terça', 'Quarta', 'Quinta', 'Sexta', 'Sábado', 'Domingo')\n",
    "    dia_traduzido = tupla[data_atual.weekday()]\n",
    "    print(dia_traduzido)\n",
    "    \n",
    "if __name__ == \"__main__\":\n",
    "    trad_dia()"
   ]
  },
  {
   "cell_type": "code",
   "execution_count": 27,
   "metadata": {},
   "outputs": [
    {
     "name": "stdout",
     "output_type": "stream",
     "text": [
      "2018-06-20 15:30:20\n"
     ]
    }
   ],
   "source": [
    "# Criar uma Data e Hora:\n",
    "\n",
    "data_criada = datetime(2018, 6, 20, 15, 30, 20) # a função \"datetime\" cria uma data e hora com os parâmetros informados : ano, mês, dia, hora, minutos, segundos (nessa ordem)\n",
    "\n",
    "print(data_criada)"
   ]
  },
  {
   "cell_type": "code",
   "execution_count": 3,
   "metadata": {},
   "outputs": [
    {
     "name": "stdout",
     "output_type": "stream",
     "text": [
      "2019-01-01 00:00:00\n",
      "<class 'datetime.datetime'>\n"
     ]
    }
   ],
   "source": [
    "# Converter datas informadas no formato \"string\" para o formato \"datetime\":\n",
    "from datetime import datetime\n",
    "\n",
    "data_string = '01/01/2019'\n",
    "\n",
    "data_convertida = datetime.strptime(data_string, '%d/%m/%Y') # a função strptime converte a data para o formato detatime desde que seja informado o formato por diretiva do Python\n",
    "\n",
    "print(data_convertida)\n",
    "print(type(data_convertida))\n"
   ]
  },
  {
   "cell_type": "markdown",
   "metadata": {},
   "source": [
    "#### Subtração e Soma de Datas:"
   ]
  },
  {
   "cell_type": "code",
   "execution_count": 6,
   "metadata": {},
   "outputs": [
    {
     "name": "stdout",
     "output_type": "stream",
     "text": [
      "2018-01-01 00:00:00\n"
     ]
    }
   ],
   "source": [
    "# Subtração de Data:\n",
    "from datetime import timedelta\n",
    "nova_data = data_convertida - timedelta(days=365)\n",
    "print(nova_data)"
   ]
  },
  {
   "cell_type": "code",
   "execution_count": 13,
   "metadata": {},
   "outputs": [
    {
     "name": "stdout",
     "output_type": "stream",
     "text": [
      "22/04/1987 08/04/2022 22/04/2022\n"
     ]
    }
   ],
   "source": [
    "# Soma de Data:\n",
    "born = datetime(1987, 4, 22)\n",
    "\n",
    "today = datetime.now()\n",
    "\n",
    "thisyear = born + timedelta(days=int(35 * 365), hours=int(6 * 36))\n",
    "\n",
    "born = born.strftime('%d/%m/%Y')\n",
    "today = today.strftime('%d/%m/%Y')\n",
    "thisyear = thisyear.strftime('%d/%m/%Y')\n",
    "\n",
    "print(born, today, thisyear)"
   ]
  },
  {
   "cell_type": "markdown",
   "metadata": {},
   "source": [
    "### 11 - Gerenciando e Criando Exceções Customizadas"
   ]
  },
  {
   "cell_type": "markdown",
   "metadata": {},
   "source": [
    "#### Exceções Genéricas:"
   ]
  },
  {
   "cell_type": "code",
   "execution_count": 14,
   "metadata": {},
   "outputs": [
    {
     "name": "stdout",
     "output_type": "stream",
     "text": [
      "Não é possível realizar divisão por 0.\n"
     ]
    }
   ],
   "source": [
    "# Divisão por Zero (0):\n",
    "\n",
    "try:\n",
    "    divisao = 10 / 0\n",
    "except ZeroDivisionError:\n",
    "    print('Não é possível realizar divisão por 0.')"
   ]
  },
  {
   "cell_type": "code",
   "execution_count": 15,
   "metadata": {},
   "outputs": [
    {
     "name": "stdout",
     "output_type": "stream",
     "text": [
      "Objeto não encontrado.\n"
     ]
    }
   ],
   "source": [
    "# Erro de índice de lista:\n",
    "\n",
    "lista = [1, 10]\n",
    "\n",
    "try:\n",
    "    numero = lista[3]\n",
    "except IndexError:\n",
    "    print('Erro ao ecessar um índice inválido da lista.')"
   ]
  },
  {
   "cell_type": "code",
   "execution_count": 16,
   "metadata": {},
   "outputs": [
    {
     "name": "stdout",
     "output_type": "stream",
     "text": [
      "Erro desconhecido.\n"
     ]
    }
   ],
   "source": [
    "# Exceções Encadeadas:\n",
    "\n",
    "lista = [2, 3]\n",
    "\n",
    "try:\n",
    "    divisao = 10 / 1\n",
    "    numero = lista[3]\n",
    "except ZeroDivisionError:\n",
    "    print('Não é possível dividir por zero.')\n",
    "except:\n",
    "    print('Erro desconhecido.') # Exceção encadeada, por já haver uma antes, e genérica, por não estar relacionada a uma classe de exceção"
   ]
  },
  {
   "cell_type": "code",
   "execution_count": 17,
   "metadata": {},
   "outputs": [
    {
     "name": "stdout",
     "output_type": "stream",
     "text": [
      "Erro desconhecido. Erro: name 'a' is not defined\n"
     ]
    }
   ],
   "source": [
    "# BaseException - Exceção de Base: engloba todos as classes de exceção previstas no Python, deve ser colocada após as exceções previstas:\n",
    "\n",
    "try:\n",
    "    divisao = 10 / 1\n",
    "    x = a\n",
    "except ZeroDivisionError:\n",
    "    print('Não é possível divisão por 0.')\n",
    "except BaseException as ex:\n",
    "    print(f'Erro desconhecido. Erro: {ex}')"
   ]
  },
  {
   "cell_type": "code",
   "execution_count": 19,
   "metadata": {},
   "outputs": [
    {
     "name": "stdout",
     "output_type": "stream",
     "text": [
      "Erro desconhecido. Erro: name 'a' is not defined\n"
     ]
    }
   ],
   "source": [
    "# Exception - Exceção de Base: engloba todos as classes de exceção a nível de aplicação previstas no Python, deve ser colocada após as exceções previstas:\n",
    "\n",
    "try:\n",
    "    divisao = 10 / 1\n",
    "    x = a\n",
    "except ZeroDivisionError:\n",
    "    print('Não é possível divisão por 0.')\n",
    "except Exception as ex:\n",
    "    print(f'Erro desconhecido. Erro: {ex}')"
   ]
  },
  {
   "cell_type": "code",
   "execution_count": 18,
   "metadata": {},
   "outputs": [
    {
     "name": "stdout",
     "output_type": "stream",
     "text": [
      "Houve um erro ao realizar uma operção aritmética.\n"
     ]
    }
   ],
   "source": [
    "# AritmeticError: engloba todas as exceções em operações aritméticas a nível de aplicação, deve ser colocada após as exceções para operações desse tipo previstas, como a ZeroDivsionError:\n",
    "\n",
    "try:\n",
    "    divisao = 10 / 0\n",
    "except ArithmeticError:\n",
    "    print('Houve um erro ao realizar uma operção aritmética.')"
   ]
  },
  {
   "cell_type": "markdown",
   "metadata": {},
   "source": [
    "#### Else e Finally:"
   ]
  },
  {
   "cell_type": "code",
   "execution_count": 20,
   "metadata": {},
   "outputs": [
    {
     "name": "stdout",
     "output_type": "stream",
     "text": [
      "Operação anterior sem erro.\n"
     ]
    }
   ],
   "source": [
    "# Else - bloco de código executado se não houver erro no bloco do \"try\":\n",
    "\n",
    "try:\n",
    "    divisao = 10 / 1\n",
    "    \n",
    "except ZeroDivisionError:\n",
    "    print('Não é possível divisão por 0.')\n",
    "else:\n",
    "    print('Operação anterior sem erro.')"
   ]
  },
  {
   "cell_type": "code",
   "execution_count": 22,
   "metadata": {},
   "outputs": [
    {
     "name": "stdout",
     "output_type": "stream",
     "text": [
      "Não é possível divisão por 0.\n",
      "Bloco executado mesmo com erro no anterior.\n"
     ]
    }
   ],
   "source": [
    "# Finally - bloco de código executado havendo erro ou não no bloco do try:\n",
    "\n",
    "try:\n",
    "    divisao = 10 / 0\n",
    "    \n",
    "except ZeroDivisionError:\n",
    "    print('Não é possível divisão por 0.')\n",
    "finally:\n",
    "    print('Bloco executado mesmo com erro no anterior.')"
   ]
  },
  {
   "cell_type": "markdown",
   "metadata": {},
   "source": [
    "#### Exceções Personalizadas:"
   ]
  },
  {
   "cell_type": "code",
   "execution_count": 25,
   "metadata": {},
   "outputs": [
    {
     "name": "stdout",
     "output_type": "stream",
     "text": [
      "Valor inválido. Deve-se digitar apenas números.\n",
      "6\n"
     ]
    }
   ],
   "source": [
    "# Break - finaliza o loop quando não houver a exceção:\n",
    "\n",
    "while True:\n",
    "    try:\n",
    "        x = int(input('Insira um valor entre 0 e 10: '))\n",
    "        print(x)\n",
    "        break\n",
    "    except ValueError:\n",
    "        print('Valor inválido. Deve-se digitar apenas números.')"
   ]
  },
  {
   "cell_type": "code",
   "execution_count": 28,
   "metadata": {},
   "outputs": [
    {
     "name": "stdout",
     "output_type": "stream",
     "text": [
      "11\n",
      "Nota não pode ser maior que 10.\n",
      "Valor inválido. Deve-se digitar apenas números\n",
      "9\n"
     ]
    }
   ],
   "source": [
    "# Classe de Erro Personalizada:\n",
    "\n",
    "class Error(Exception): # Recebe a exceção, obrigatória - será parâmetro da classe personalizada\n",
    "    pass\n",
    "\n",
    "class InputError(Error): # Classe personalizada, recebe a classe \"Error\" como parâmetro\n",
    "    def __init__(self, message):\n",
    "        self.message = message # Recebe a mensagem de erro informada.\n",
    "        \n",
    "while True:\n",
    "    try:\n",
    "        x = int(input('Insira um valor entre 0 e 10: '))\n",
    "        print(x)\n",
    "        if x > 10: \n",
    "            raise InputError('Nota não pode ser maior que 10.') # com o comando \"raise\" força a execução da exceção personalizada \"InputError\" com a mensagem indicada\n",
    "        elif x < 0:\n",
    "            raise InputError('Nota não pode ser menor que 0.')\n",
    "        break\n",
    "    except ValueError:\n",
    "        print('Valor inválido. Deve-se digitar apenas números')\n",
    "    except InputError as ex:\n",
    "        print(ex) # a mensagem da exceção será carregada na variável \"ex\" e impressa com a execução da exceção"
   ]
  }
 ],
 "metadata": {
  "interpreter": {
   "hash": "d37f61ffe7d685a1ac48b1d7774f291cdee1834edd502e25b8d0651861a5e209"
  },
  "kernelspec": {
   "display_name": "Python 3.9.9 64-bit",
   "language": "python",
   "name": "python3"
  },
  "language_info": {
   "codemirror_mode": {
    "name": "ipython",
    "version": 3
   },
   "file_extension": ".py",
   "mimetype": "text/x-python",
   "name": "python",
   "nbconvert_exporter": "python",
   "pygments_lexer": "ipython3",
   "version": "3.9.9"
  },
  "orig_nbformat": 4
 },
 "nbformat": 4,
 "nbformat_minor": 2
}
