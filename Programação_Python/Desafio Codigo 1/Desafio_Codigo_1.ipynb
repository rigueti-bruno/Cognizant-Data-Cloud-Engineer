{
 "cells": [
  {
   "cell_type": "markdown",
   "metadata": {},
   "source": [
    "### Descomplicando a criação de pacotes de processamento de imagens em Python - Karina Kato"
   ]
  },
  {
   "cell_type": "markdown",
   "metadata": {},
   "source": [
    "- ***Modulo***: objeto que serve como unidade organizacional do código que é carregado pelo comando de import\n",
    "- ***Pacote***: Coleção de Modulos com hierarquia. Facilmente compartilhados por uma distribuição."
   ]
  },
  {
   "cell_type": "markdown",
   "metadata": {},
   "source": [
    "***Modularização***\n",
    "\n",
    "Vantagens:\n",
    "- Legibilidade\n",
    "- Manutenção\n",
    "- Reaproveitamento de Código"
   ]
  },
  {
   "cell_type": "markdown",
   "metadata": {},
   "source": [
    "***Criar Pacote***\n",
    "\n",
    "Vantagens:\n",
    "- Compartilhamento\n",
    "- Instalação"
   ]
  },
  {
   "cell_type": "markdown",
   "metadata": {},
   "source": [
    "***Conceitos***\n",
    "\n",
    "- __Pypi__ - repositório público oficial de pacotes python\n",
    "- __Wheel e Sdist__ - dois tipos de distribuições\n",
    "- __Setuptools__ - pacote usado em setup.py para gerar as distruibuições - cria os Wheel e Sdist\n",
    "- __Twine__ - pacote usado para subir as distribuições no Pypi\n",
    "- __Sdist__ - Distribuição Raiz\n",
    "- __Wheel__ - Distribuição Binária"
   ]
  },
  {
   "cell_type": "markdown",
   "metadata": {},
   "source": [
    "Quando trabalhamos com pacotes, precisamos saber que tipo de estrutura vai ser utilizada:\n",
    "- simples - um único módulo\n",
    "- Com vários módulos\n",
    "\n",
    "O diretório com ___init___ dentro caracteriza um módulo, mesmo que ele esteja vazio. O ___init___ que permite a importação do módulo.\n",
    "\n",
    "Chamada de um modulo em uma estrutura simples:\n",
    "import package_name.modulo1_name.file1_name\n",
    "ou from package_name.modulo1_name import file1_name"
   ]
  },
  {
   "cell_type": "markdown",
   "metadata": {},
   "source": [
    "No projeto:\n",
    "o project_name será o nome do pacote - o nome que usaremos para importar o pacote\n"
   ]
  },
  {
   "cell_type": "markdown",
   "metadata": {},
   "source": [
    "### Distribuições:\n",
    "- Para subir o pacote, criar uma distribuição binária (wheel - instala mais rápido) ou distribuição de código fonte (sdist - demora mais para instalar).\n",
    "- As versões mais rescentes do pip install instalam primeiramente a distribuição binária e usam as distribuições de código fonte apenas se necessário.\n",
    "- É uma boa prática subir para o Pypi as duas versões da distribuição - .wheel e .sdist"
   ]
  },
  {
   "cell_type": "markdown",
   "metadata": {},
   "source": [
    "Quando formos compartilhar o projeto, é importante que todos os módulos estejam em um ***único arquivo*** - esse arquivo será a __Distribuição__."
   ]
  },
  {
   "cell_type": "markdown",
   "metadata": {},
   "source": [
    "### Geração da Distribuição:\n",
    "- Acessar a raiz do projeto\n",
    "- Comandos de instalação\n",
    "- Comando para criar a distribuição"
   ]
  },
  {
   "cell_type": "markdown",
   "metadata": {},
   "source": [
    "#### Comandos de Instalação:\n",
    "- python -m pip install --upgrade pip -> ***atualização do pip***\n",
    "- python -m pip install --user twine -> ***instalação do twine***\n",
    "- python -m pip install --user setuptools -> ***instalação do setuptools***"
   ]
  },
  {
   "cell_type": "markdown",
   "metadata": {},
   "source": [
    "#### Comandos para Criar Distribuições:\n",
    "antes - instalar: ***pip install wheel***\n",
    "\n",
    "__python setup.py sdist bdist_wheel__"
   ]
  },
  {
   "cell_type": "markdown",
   "metadata": {},
   "source": [
    "### Publicar o Pacote - upload no Pypi:\n",
    "1. Criar conta no Test Pypi\n",
    "2. Publicar no Test Pypi\n",
    "3. Instalar o pacote usando o Test Pypi\n",
    "4. Testar o pacote\n",
    "5. Criar conta no Pypi\n",
    "6. Publicar o pacote no Pypi\n",
    "7. Instalar o pacote usando pip"
   ]
  },
  {
   "cell_type": "markdown",
   "metadata": {},
   "source": [
    "#### Comando para Publicar no Test Pypi:\n",
    "python -m twine upload --repository-url https://test.pypi.org/legacy/ dist/* --verbose -> verbose é para ver o processo passo a passo\n",
    "\n",
    "Link gerado pela publicação do pacote no Test Pypi: https://test.pypi.org/project/image-processing-brb/0.0.1/"
   ]
  },
  {
   "cell_type": "markdown",
   "metadata": {},
   "source": [
    "#### Comando para Publicar no Pypi:\n",
    "python -m twine upload --repository-url https://upload.pypi.org/legacy/ dist/* --verbose -> verbose é para ver o processo passo a passo\n",
    "\n",
    "Link gerado pela publicação do pacote no Pypi: https://pypi.org/project/image-processing-brb/0.0.1/"
   ]
  }
 ],
 "metadata": {
  "language_info": {
   "name": "python"
  },
  "orig_nbformat": 4
 },
 "nbformat": 4,
 "nbformat_minor": 2
}
