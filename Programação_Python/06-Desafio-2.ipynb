{
 "cells": [
  {
   "cell_type": "markdown",
   "metadata": {},
   "source": [
    "### 1 - Crie um programa que leia 6 valores, os quais poderão ser negativos e/ou positivos. Em seguida, apresente a quantidade de valores positivos digitados."
   ]
  },
  {
   "cell_type": "code",
   "execution_count": 13,
   "metadata": {},
   "outputs": [
    {
     "name": "stdout",
     "output_type": "stream",
     "text": [
      "3 valores positivos\n"
     ]
    }
   ],
   "source": [
    "counter = 0\n",
    "for _ in range(6):\n",
    "    number = float(input())\n",
    "    if number > 0:\n",
    "      counter += 1\n",
    "       \n",
    "print(f'{counter} valores positivos')"
   ]
  },
  {
   "cell_type": "markdown",
   "metadata": {},
   "source": [
    "### 2 - Leia uma quantidade indeterminada de duplas de valores inteiros X e Y. Para cada X e Y, escreva uma mensagem para indicar se tais valores foram digitados em ordem crescente ou decrescente."
   ]
  },
  {
   "cell_type": "code",
   "execution_count": null,
   "metadata": {},
   "outputs": [],
   "source": [
    "# tem que digitar os números dando um espaço entre eles\n",
    "X, Y = map(int, input().split())\n",
    "while (X != Y):\n",
    "    floor = min(X, Y)\n",
    "    top = max(X, Y)\n",
    "    if (X == floor):\n",
    "        print(\"Crescente\")\n",
    "    elif (X == top):\n",
    "        print(\"Decrescente\")\n",
    "    X, Y = map(int, input().split())"
   ]
  },
  {
   "cell_type": "markdown",
   "metadata": {},
   "source": [
    "### 3 - Escreva um programa que leia 2 valores X e Y e que imprima todos os valores entre eles cujo resto da divisão dele por 5 for igual a 2 ou igual a 3."
   ]
  },
  {
   "cell_type": "code",
   "execution_count": 12,
   "metadata": {},
   "outputs": [],
   "source": [
    "X = int(input())\n",
    "Y = int(input())\n",
    "if (Y > X):\n",
    "    for i in range(X + 1, Y):\n",
    "        if (i%5==2) or (i%5==3):\n",
    "            print(i)\n",
    "elif (X > Y):\n",
    "    for i in range(Y + 1, X):\n",
    "        if (i%5==2) or (i%5==3):\n",
    "            print(i)\n",
    "elif (X == Y):\n",
    "    for i in range(Y):\n",
    "        if (i%5==2) or (i%5==3):\n",
    "            print(i)          \n",
    "elif (X == 0):\n",
    "    for i in range(Y):\n",
    "        if (i%5==2) or (i%5==3):\n",
    "            print(i)\n",
    "elif (Y == 0):\n",
    "    for i in range(X):\n",
    "        if (i%5==2) or (i%5==3):\n",
    "            print(i)"
   ]
  }
 ],
 "metadata": {
  "interpreter": {
   "hash": "d37f61ffe7d685a1ac48b1d7774f291cdee1834edd502e25b8d0651861a5e209"
  },
  "kernelspec": {
   "display_name": "Python 3.9.9 64-bit",
   "language": "python",
   "name": "python3"
  },
  "language_info": {
   "codemirror_mode": {
    "name": "ipython",
    "version": 3
   },
   "file_extension": ".py",
   "mimetype": "text/x-python",
   "name": "python",
   "nbconvert_exporter": "python",
   "pygments_lexer": "ipython3",
   "version": "3.9.9"
  },
  "orig_nbformat": 4
 },
 "nbformat": 4,
 "nbformat_minor": 2
}
