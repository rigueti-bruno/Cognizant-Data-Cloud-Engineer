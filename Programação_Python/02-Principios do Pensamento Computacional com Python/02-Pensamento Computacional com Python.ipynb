{
 "cells": [
  {
   "cell_type": "markdown",
   "metadata": {},
   "source": [
    "## PRINCÍPIOS DE PENSAMENTO COMPUTACIONAL COM PYTHON - DIO - RENATA RIBEIRO"
   ]
  },
  {
   "cell_type": "markdown",
   "metadata": {},
   "source": [
    "### 1 - Abstração:"
   ]
  },
  {
   "cell_type": "code",
   "execution_count": 1,
   "metadata": {},
   "outputs": [
    {
     "name": "stdout",
     "output_type": "stream",
     "text": [
      "6.0\n"
     ]
    }
   ],
   "source": [
    "# Exemplo: Calcular a média das notas dos alunos de uma escola:\n",
    "\n",
    "# Entradas/Inputs:\n",
    "nota_aluno1 = 7 # nota do primeiro aluno\n",
    "nota_aluno2 = 5 # nota do segundo aluno\n",
    "\n",
    "# Processamento:\n",
    "soma_alunos = nota_aluno1 + nota_aluno2 # soma das notas dos alunos\n",
    "qtd_alunos = 2 # quantidade de alunos observada\n",
    "\n",
    "media = soma_alunos / qtd_alunos # media das notas dos alunos\n",
    "\n",
    "# Resultado/Output:\n",
    "print(media)\n"
   ]
  },
  {
   "cell_type": "markdown",
   "metadata": {},
   "source": [
    "### 2 - Pensamento Algorítmico:"
   ]
  },
  {
   "cell_type": "code",
   "execution_count": 2,
   "metadata": {},
   "outputs": [
    {
     "name": "stdout",
     "output_type": "stream",
     "text": [
      "7.0: posso comprar\n",
      "9.0: posso comprar\n",
      "não posso comprar\n"
     ]
    }
   ],
   "source": [
    "# Verificar se posso comprar 1 item:\n",
    "\n",
    "# Possuo 20 reais\n",
    "# Quero comprar 2 itens\n",
    "# Cada item pode custar no máximo metade do que possuo\n",
    "\n",
    "Possuo = 20\n",
    "\n",
    "Posso_Gastar = Possuo / 2\n",
    "\n",
    "# Custo de cada item que pretendo comprar:\n",
    "arroz = 7.0\n",
    "feijao = 9.0\n",
    "carne = 35.0\n",
    "\n",
    "# Verificar quais itens posso comprar:\n",
    "if arroz <= Posso_Gastar:\n",
    "    print(f'{arroz}: posso comprar')\n",
    "else:\n",
    "    print('não posso comprar')\n",
    "    \n",
    "if feijao <= Posso_Gastar:\n",
    "    print(f'{feijao}: posso comprar')\n",
    "else:\n",
    "    print('não posso comprar')\n",
    "          \n",
    "if carne <= Posso_Gastar:\n",
    "    print(f'{carne}: posso comprar')\n",
    "else:\n",
    "    print('não posso comprar')"
   ]
  },
  {
   "cell_type": "markdown",
   "metadata": {},
   "source": [
    "### 3 - Decomposição:"
   ]
  },
  {
   "cell_type": "code",
   "execution_count": 1,
   "metadata": {},
   "outputs": [
    {
     "name": "stdout",
     "output_type": "stream",
     "text": [
      "Salário Líquido: 2350.0\n"
     ]
    }
   ],
   "source": [
    "# Calcular o salário líquido de um vendedor:\n",
    "\n",
    "# Partes do Problema = Problemas Menores:\n",
    "descontos = 300.0\n",
    "salario_fixo = 1650.0\n",
    "vendas_mes = 50 # quantidade de vendas no mês\n",
    "valor_comissao = 20.0 # valor pago por cada venda feita\n",
    "valor_total_vendas = vendas_mes * valor_comissao # varia de acordo com a quantidade de vendas do mês\n",
    "\n",
    "# Problema Maior:\n",
    "valor_salario_liquido = (salario_fixo + valor_total_vendas) - descontos\n",
    "\n",
    "# Resultado:\n",
    "print(f'Salário Líquido: {valor_salario_liquido}')"
   ]
  },
  {
   "cell_type": "markdown",
   "metadata": {},
   "source": [
    "### 4 - Identificação de Padrões:"
   ]
  },
  {
   "cell_type": "code",
   "execution_count": 4,
   "metadata": {},
   "outputs": [
    {
     "name": "stdout",
     "output_type": "stream",
     "text": [
      "arroz: posso comprar\n",
      "feijao: posso comprar\n",
      "carne: não posso comprar\n"
     ]
    }
   ],
   "source": [
    "# Verificar quais itens posso comprar:\n",
    "\n",
    "item = ['arroz', 'feijao', 'carne'] # relação de itens que quero comprar\n",
    "preco = [7.0, 9.0, 35.0] # preços dos itens que quero comprar\n",
    "\n",
    "for i in range(len(item)): # verifica quais desses itens eu posso comprar\n",
    "    valor = preco[i]\n",
    "    if valor <= 10.0:\n",
    "        print(f'{item[i]}: posso comprar')\n",
    "    else:\n",
    "        print(f'{item[i]}: não posso comprar')"
   ]
  }
 ],
 "metadata": {
  "interpreter": {
   "hash": "d37f61ffe7d685a1ac48b1d7774f291cdee1834edd502e25b8d0651861a5e209"
  },
  "kernelspec": {
   "display_name": "Python 3.9.9 64-bit",
   "language": "python",
   "name": "python3"
  },
  "language_info": {
   "codemirror_mode": {
    "name": "ipython",
    "version": 3
   },
   "file_extension": ".py",
   "mimetype": "text/x-python",
   "name": "python",
   "nbconvert_exporter": "python",
   "pygments_lexer": "ipython3",
   "version": "3.9.9"
  },
  "orig_nbformat": 4
 },
 "nbformat": 4,
 "nbformat_minor": 2
}
