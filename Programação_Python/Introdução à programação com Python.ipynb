{
 "cells": [
  {
   "cell_type": "markdown",
   "metadata": {},
   "source": [
    "### 1 - Introdução"
   ]
  },
  {
   "cell_type": "code",
   "execution_count": null,
   "metadata": {},
   "outputs": [],
   "source": [
    "print('meu primeiro programa em Python')\n",
    "a = 1\n",
    "b = 2\n",
    "soma = a + b\n",
    "print(soma)"
   ]
  },
  {
   "cell_type": "markdown",
   "metadata": {},
   "source": [
    "### 2 - Variáveis, Operadores Aritméticos e Interação com o Usuário"
   ]
  },
  {
   "cell_type": "markdown",
   "metadata": {},
   "source": [
    "#### Operadores Aritméticos"
   ]
  },
  {
   "cell_type": "code",
   "execution_count": null,
   "metadata": {},
   "outputs": [],
   "source": [
    "# Variáveis:\n",
    "a = 10\n",
    "b = 5\n",
    "\n",
    "# Operações:\n",
    "soma = a + b\n",
    "\n",
    "subtracao = a - b\n",
    "\n",
    "multiplicacao = a * b\n",
    "\n",
    "divisao = a / b\n",
    "\n",
    "resto = a % b #resto da divisão\n",
    "\n",
    "potencia = a ** b\n",
    "\n",
    "# Resultados:\n",
    "print(soma)\n",
    "print(subtracao)\n",
    "print(multiplicacao)\n",
    "print(divisao)\n",
    "print(resto)\n",
    "print(potencia)"
   ]
  },
  {
   "cell_type": "markdown",
   "metadata": {},
   "source": [
    "#### Saber o Tipo de Dado de uma Variável"
   ]
  },
  {
   "cell_type": "code",
   "execution_count": null,
   "metadata": {},
   "outputs": [],
   "source": [
    "# Usamos a função \"type\":\n",
    "\n",
    "print(type(soma))"
   ]
  },
  {
   "cell_type": "markdown",
   "metadata": {},
   "source": [
    "#### Conversão de Tipos de Dados das Variáveis"
   ]
  },
  {
   "cell_type": "code",
   "execution_count": null,
   "metadata": {},
   "outputs": [],
   "source": [
    "# Converter para o tipo String - str():\n",
    "soma = str(soma)\n",
    "print(type(soma))\n",
    "\n",
    "print('soma = ' + soma)\n",
    "\n",
    "# Converter para o tipo Inteiro - int():\n",
    "divisao = int(divisao)\n",
    "print(type(divisao))\n",
    "print(divisao)\n",
    "\n",
    "# Podemos converter a variável direto no print:\n",
    "print('subtração = ' + str(subtracao))\n",
    "\n",
    "# Podemos ainda concatenar texto com variáveis com a função .format():\n",
    "print('multiplicação = {}'.format(multiplicacao))\n",
    "\n",
    "# Incluindo variaveis na mesma linha de texto com 'alias':\n",
    "print('Soma = {soma} . Subtração = {subtracao}'.format(subtracao=subtracao, soma=soma))\n",
    "\n",
    "# Imprimir o resultado em múltiplas linha - '\\n':\n",
    "print('Soma = {soma}, \\nMultiplicação = {multiplicacao}'.format(multiplicacao=multiplicacao, soma=soma))\n",
    "\n",
    "# Podemos ainda concatenar variáveis com texto colocando f'' no print, sem precisar da função .format():\n",
    "print(f'soma = {soma} \\nsubtração = {subtracao}')"
   ]
  },
  {
   "cell_type": "markdown",
   "metadata": {},
   "source": [
    "#### Interação com o Usuário"
   ]
  },
  {
   "cell_type": "code",
   "execution_count": null,
   "metadata": {},
   "outputs": [],
   "source": [
    "# Utilizamos a função input() para solicitar valores ao usuário:\n",
    "c = input()\n",
    "d = input()\n",
    "\n",
    "# Podemos incluir um texto dentro da função input() para passar uma pergunta ou instrução ao usuário:\n",
    "e = input('Insira o 1º valor: ')\n",
    "f = input('Insira o 2º valor: ')\n",
    "print(type(e), type(f))\n",
    "\n",
    "# Independente do valor que o usuário informar, a função input() atribuirá uma string à variável. Precisamos fazer uma conversão para atribuir o valor correto:\n",
    "\n",
    "g = int(input('insira o valor 1: '))\n",
    "h = int(input('insira o valor 2: '))\n",
    "#print(type(g), type(h))\n",
    "\n",
    "sum = g + h\n",
    "sub = g - h\n",
    "rest = g % h\n",
    "print(f'valor 1 = {g} \\nvalor 2 = {h} \\nSoma = {sum} \\nSubtração = {sub} \\nResto = {rest}')"
   ]
  },
  {
   "cell_type": "markdown",
   "metadata": {},
   "source": [
    "### 3 - Relações entre Variáveis"
   ]
  },
  {
   "cell_type": "markdown",
   "metadata": {},
   "source": [
    "#### Condicional - Comando IF"
   ]
  },
  {
   "cell_type": "code",
   "execution_count": null,
   "metadata": {},
   "outputs": [],
   "source": [
    "# Variáveis:\n",
    "a = int(input('Primeiro valor: '))\n",
    "b = int(input('Segundo valor: '))\n",
    "\n",
    "if a > b:\n",
    "    print('o maior valor é {}'.format(a))\n",
    "print('final do código')"
   ]
  },
  {
   "cell_type": "markdown",
   "metadata": {},
   "source": [
    "#### Condicional - Comando ELSE:"
   ]
  },
  {
   "cell_type": "code",
   "execution_count": null,
   "metadata": {},
   "outputs": [],
   "source": [
    "# Variáveis:\n",
    "a = int(input('Primeiro valor: '))\n",
    "b = int(input('Segundo valor: '))\n",
    "\n",
    "if a > b:\n",
    "    print('o maior valor é {}'.format(a))\n",
    "else:\n",
    "    print('o maior valor é {}'.format(b))\n",
    "print('final do código')"
   ]
  },
  {
   "cell_type": "markdown",
   "metadata": {},
   "source": [
    "#### Operadores Lógicos e Condiconal - Comando ELIF:"
   ]
  },
  {
   "cell_type": "code",
   "execution_count": null,
   "metadata": {},
   "outputs": [],
   "source": [
    "# Variáveis:\n",
    "a = int(input('Primeiro valor: '))\n",
    "b = int(input('Segundo valor: '))\n",
    "c = int(input('Terceiro valor: '))\n",
    "\n",
    "if a > b and a > c:\n",
    "    print('o maior valor é {}'.format(a))\n",
    "elif b > a and b > c:\n",
    "    print('o maior valor é {}'.format(b))\n",
    "else:\n",
    "    print('o maior valor é {}'.format(c))\n",
    "print('final do código')"
   ]
  },
  {
   "cell_type": "markdown",
   "metadata": {},
   "source": [
    "#### Operadores Lógicos e de Comparação:"
   ]
  },
  {
   "cell_type": "code",
   "execution_count": null,
   "metadata": {},
   "outputs": [],
   "source": [
    "# Variáveis:\n",
    "a = int(input('Insira um valor: '))\n",
    "resto = a % 2\n",
    "\n",
    "# Verifica se o número é par:\n",
    "if resto == 0:\n",
    "    print('o número é par!')\n",
    "else:\n",
    "    print('o número é impar!')"
   ]
  },
  {
   "cell_type": "code",
   "execution_count": null,
   "metadata": {},
   "outputs": [],
   "source": [
    "# Variáveis:\n",
    "a = int(input('insira o primeiro valor: '))\n",
    "b = int(input('insira o segundo valor: '))\n",
    "resto_a = a % 2\n",
    "resto_b = b % 2\n",
    "\n",
    "# Verifica se algum número par foi digitado:\n",
    "if resto_a == 0 or resto_b == 0:\n",
    "    print('foi digitado pelo menos um número par!')\n",
    "else:\n",
    "    print('não foi digitado nenhum número par.')"
   ]
  },
  {
   "cell_type": "code",
   "execution_count": null,
   "metadata": {},
   "outputs": [],
   "source": [
    "# Variáveis:\n",
    "a = int(input('Insira um valor: '))\n",
    "resto = a % 2\n",
    "\n",
    "# Verifica se o número é par - operador not:\n",
    "if not resto > 0:\n",
    "    print('o número é par!')\n",
    "else:\n",
    "    print('o número é impar!')"
   ]
  },
  {
   "cell_type": "code",
   "execution_count": null,
   "metadata": {},
   "outputs": [],
   "source": [
    "# Variáveis:\n",
    "a = int(input('Primeiro Bimestre: '))\n",
    "b = int(input('Segundo Bimestre: '))\n",
    "c = int(input('Terceiro Bimestre: '))\n",
    "d = int(input('Quarto Bimestre: '))\n",
    "\n",
    "# Calculo da média:\n",
    "media = (a + b + c + d) / 4\n",
    "\n",
    "# Prevenir valores incorretos:\n",
    "\n",
    "if a <= 10 and b <= 10 and c <= 10 and d <= 10:\n",
    "    print(f'média = {media}')\n",
    "else:\n",
    "    print('alguma nota foi digitada errada')"
   ]
  },
  {
   "cell_type": "code",
   "execution_count": null,
   "metadata": {},
   "outputs": [],
   "source": [
    "# Variáveis - previnindo digitação incorreta no input:\n",
    "a = int(input('Primeiro Bimestre: '))\n",
    "if a > 10:\n",
    "    a = int(input('Valor incorreto. Digite novamente. \\nPrimeiro Bimestre: '))\n",
    "b = int(input('Segundo Bimestre: '))\n",
    "if b > 10:\n",
    "    b = int(input('Valor incorreto. Digite novamente. \\nSegundo Bimestre: '))\n",
    "c = int(input('Terceiro Bimestre: '))\n",
    "if c > 10:\n",
    "    c = int(input('Valor incorreto. Digite novamente. \\nTerceiro Bimestre: '))\n",
    "d = int(input('Quarto Bimestre: '))\n",
    "if d > 10:\n",
    "    d = int(input('Valor incorreto. Digite novamente. \\nQuarto Bimestre: '))\n",
    "\n",
    "# Calculo da média:\n",
    "media = (a + b + c + d) / 4\n",
    "\n",
    "print(f'média = {media}')"
   ]
  }
 ],
 "metadata": {
  "interpreter": {
   "hash": "d37f61ffe7d685a1ac48b1d7774f291cdee1834edd502e25b8d0651861a5e209"
  },
  "kernelspec": {
   "display_name": "Python 3.9.9 64-bit",
   "language": "python",
   "name": "python3"
  },
  "language_info": {
   "codemirror_mode": {
    "name": "ipython",
    "version": 3
   },
   "file_extension": ".py",
   "mimetype": "text/x-python",
   "name": "python",
   "nbconvert_exporter": "python",
   "pygments_lexer": "ipython3",
   "version": "3.9.9"
  },
  "orig_nbformat": 4
 },
 "nbformat": 4,
 "nbformat_minor": 2
}
