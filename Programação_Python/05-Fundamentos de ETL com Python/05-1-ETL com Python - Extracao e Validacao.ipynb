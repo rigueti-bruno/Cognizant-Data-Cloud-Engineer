{
 "cells": [
  {
   "cell_type": "markdown",
   "metadata": {},
   "source": [
    "# FUNDAMENTOS DE ETL COM PYTHON - FERNANDO TIOSSO - DIO"
   ]
  },
  {
   "cell_type": "markdown",
   "metadata": {},
   "source": [
    "## 1 - Extração de Dados"
   ]
  },
  {
   "cell_type": "markdown",
   "metadata": {},
   "source": [
    "### Importando a Biblioteca Pandas:"
   ]
  },
  {
   "cell_type": "code",
   "execution_count": null,
   "metadata": {},
   "outputs": [],
   "source": [
    "import pandas as pd # alias comumente utilizado pela comunidade"
   ]
  },
  {
   "cell_type": "markdown",
   "metadata": {},
   "source": [
    "### Carregar o Arquivo .csv:"
   ]
  },
  {
   "cell_type": "code",
   "execution_count": null,
   "metadata": {},
   "outputs": [],
   "source": [
    "df = pd.read_csv(\"ocorrencia.csv\", sep=\",\")\n",
    "# read_csv - função da biblioteca pandas que carrega arquivos .csv\n",
    "# se o arquivo estiver na mesma pasta que o código, basta informar seu código. Senão, precisará informar o caminho.\n",
    "# o arquivo será carregado para um \"dataframe\" quando o carregarmos em uma variável\n",
    "# com o parâmetro \"sep=\" informamos qual será o separador das colunas dos dados"
   ]
  },
  {
   "cell_type": "code",
   "execution_count": null,
   "metadata": {},
   "outputs": [],
   "source": [
    "print(df) # exibição do dataframe"
   ]
  },
  {
   "cell_type": "markdown",
   "metadata": {},
   "source": [
    "### Verificar os Tipos de Dados Carregados:"
   ]
  },
  {
   "cell_type": "code",
   "execution_count": null,
   "metadata": {},
   "outputs": [],
   "source": [
    "df.dtypes\n",
    "# com o atributo .dtypes do dataframe exibimos os tipos de dados carregados na extração"
   ]
  },
  {
   "cell_type": "markdown",
   "metadata": {},
   "source": [
    "### Existem funções específicas para trabalhar com datas no Dataframe"
   ]
  },
  {
   "cell_type": "markdown",
   "metadata": {},
   "source": [
    "#### Acessar apenas a coluna ocorrencia_dia:"
   ]
  },
  {
   "cell_type": "code",
   "execution_count": null,
   "metadata": {},
   "outputs": [],
   "source": [
    "df.ocorrencia_dia\n",
    "# df - nome do objeto do dataframe\n",
    "# .ocorrencia_dia - nome da coluna a ser acessada"
   ]
  },
  {
   "cell_type": "markdown",
   "metadata": {},
   "source": [
    "#### Acessando informações das datas:"
   ]
  },
  {
   "cell_type": "code",
   "execution_count": null,
   "metadata": {},
   "outputs": [],
   "source": [
    "df.ocorrencia_dia.dt.month\n",
    "# .dt - acessa as funções de data\n",
    "# .month - retorna o mês da data\n",
    "# nas condições atuais, retornará um erro, pois os dados não estão no formato de data na coluna."
   ]
  },
  {
   "cell_type": "markdown",
   "metadata": {},
   "source": [
    "#### Carregando o Arquivo .csv com as colunas de data no formato correto:"
   ]
  },
  {
   "cell_type": "code",
   "execution_count": null,
   "metadata": {},
   "outputs": [],
   "source": [
    "df = pd.read_csv('ocorrencia.csv', sep=',', parse_dates=['ocorrencia_dia'])\n",
    "# com o parâmetro \"parse_dates=\" informamos uma lista com as colunas que deverão ser carregadas com o formato de \"data\"\n"
   ]
  },
  {
   "cell_type": "code",
   "execution_count": null,
   "metadata": {},
   "outputs": [],
   "source": [
    "df.dtypes"
   ]
  },
  {
   "cell_type": "markdown",
   "metadata": {},
   "source": [
    "#### Testando agora a função dt.month deverá retornar os meses das datas:"
   ]
  },
  {
   "cell_type": "code",
   "execution_count": null,
   "metadata": {},
   "outputs": [],
   "source": [
    "df.ocorrencia_dia.dt.month"
   ]
  },
  {
   "cell_type": "markdown",
   "metadata": {},
   "source": [
    "## 2 - Validação de Dados"
   ]
  },
  {
   "cell_type": "markdown",
   "metadata": {},
   "source": [
    "### Imprimir as Primeiras 10 linhas do Dataframe:"
   ]
  },
  {
   "cell_type": "code",
   "execution_count": null,
   "metadata": {},
   "outputs": [],
   "source": [
    "df.head(10)\n",
    "# .head() - imprime as primeiras linhas do dataframe\n",
    "# (10) - especifica o número de linhas que serão impressas"
   ]
  },
  {
   "cell_type": "markdown",
   "metadata": {},
   "source": [
    "### Para previnir que os dias e os meses nas datas sejam carregados invertidos, passamos o parâmetro dayfirst=True no carregamento:"
   ]
  },
  {
   "cell_type": "code",
   "execution_count": null,
   "metadata": {},
   "outputs": [],
   "source": [
    "df = pd.read_csv(\"ocorrencia.csv\", sep=\",\", parse_dates=['ocorrencia_dia'], dayfirst=True)"
   ]
  },
  {
   "cell_type": "code",
   "execution_count": null,
   "metadata": {},
   "outputs": [],
   "source": [
    "df.head(10)"
   ]
  },
  {
   "cell_type": "markdown",
   "metadata": {},
   "source": [
    "### Verificando as datas finais para conferir o formato:"
   ]
  },
  {
   "cell_type": "code",
   "execution_count": null,
   "metadata": {},
   "outputs": [],
   "source": [
    "df.tail(10)\n",
    "# .tail() - exibe as últimas linhas do dataframe"
   ]
  },
  {
   "cell_type": "markdown",
   "metadata": {},
   "source": [
    "### Validação dos Tipos de Dados:"
   ]
  },
  {
   "cell_type": "code",
   "execution_count": null,
   "metadata": {},
   "outputs": [],
   "source": [
    "df.dtypes # lista os tipos de dados das colunas"
   ]
  },
  {
   "cell_type": "markdown",
   "metadata": {},
   "source": [
    "### Carregando a Biblioteca Pandera:"
   ]
  },
  {
   "cell_type": "code",
   "execution_count": null,
   "metadata": {},
   "outputs": [],
   "source": [
    "import pandera as pa # biblioteca com a qual criamos um padrão para a validação dos dados após eles serem carregados para que possamos detectar ajustes em formatos de dados ou registros divergentes encontrados."
   ]
  },
  {
   "cell_type": "markdown",
   "metadata": {},
   "source": [
    "### Criando o Esquema de Validação dos Dados:"
   ]
  },
  {
   "cell_type": "code",
   "execution_count": null,
   "metadata": {},
   "outputs": [],
   "source": [
    "schema = pa.DataFrameSchema(\n",
    "    columns = {\n",
    "        \"codigo\": pa.Column(pa.Int, required=False),\n",
    "        \"codigo_ocorrencia\": pa.Column(pa.Int),\n",
    "        \"codigo_ocorrencia2\": pa.Column(pa.Int),\n",
    "        \"ocorrencia_classificacao\": pa.Column(pa.String),\n",
    "        \"ocorrencia_cidade\": pa.Column(pa.String, nullable=True),\n",
    "        \"ocorrencia_uf\": pa.Column(pa.String, pa.Check.str_length(2,2), nullable=True),\n",
    "        \"ocorrencia_aerodromo\": pa.Column(pa.String, nullable=True),\n",
    "        \"ocorrencia_dia\": pa.Column(pa.DateTime, nullable=True),\n",
    "        \"ocorrencia_hora\": pa.Column(pa.String, pa.Check.str_matches(r'^([0-1]?[0-9]|[2][0-3]):([0-5][0-9]):([0-5][0-9])?$'), nullable=True),\n",
    "        \"total_recomendacoes\": pa.Column(pa.Float, nullable=True)\n",
    "    }\n",
    ")\n",
    "\n",
    "# pa.DataFrameSchema - função que cria o esquema de validação\n",
    "# columns - descrição das colunas a serem validadas\n",
    "# pa.Column(pa.Int) - definição do tipo de dados a ser validado na coluna\n",
    "# schema - variável a qual o esquema é atribuído\n",
    "# nas colunas onde podem haver valores nulos devemos incluir o parâmetro \"nullable=True\"\n",
    "# o parâmetro pa.Check.str_matches(r'^([0-1]?[0-9]|[2][0-3]):([0-5][0-9]):([0-5][0-9])?$') define um padrão de formato de hora a ser validado na coluna \"ocorrencia_hora\".\n",
    "# o parâmetro acima pode ser onitido, mas quando explicitado deve ser o segundo a ser descrito\n",
    "# o parêmetro pa.Check.str_length(2,2) define o tamanho mínimo e máximo dos dados na coluna \"ocorrencia_uf\" em número de caracteres\n",
    "# para validarmos um modelo com uma coluna que nem sempre é atualizada, incluímos no esquema da coluna o parâmetro required=False"
   ]
  },
  {
   "cell_type": "markdown",
   "metadata": {},
   "source": [
    "### Validando o Dataframe com o Esquema criado:"
   ]
  },
  {
   "cell_type": "code",
   "execution_count": null,
   "metadata": {},
   "outputs": [],
   "source": [
    "schema.validate(df)\n",
    "\n",
    "# validate(df) - função que executação a validação do dataframe \"df\" segundo o esquema \"schema\"\n",
    "# se o dataframe for validado, o dados do dataframe serão exibidos"
   ]
  }
 ],
 "metadata": {
  "language_info": {
   "name": "python"
  },
  "orig_nbformat": 4
 },
 "nbformat": 4,
 "nbformat_minor": 2
}
