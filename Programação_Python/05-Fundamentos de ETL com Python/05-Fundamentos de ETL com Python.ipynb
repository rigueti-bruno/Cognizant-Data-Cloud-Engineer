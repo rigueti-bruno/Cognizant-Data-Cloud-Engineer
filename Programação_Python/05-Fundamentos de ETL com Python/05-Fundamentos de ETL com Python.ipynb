{
 "cells": [
  {
   "cell_type": "markdown",
   "metadata": {},
   "source": [
    "## FUNDAMENTOS DE ETL COM PYTHON - FERNANDO TIOSSO - DIO"
   ]
  }
 ],
 "metadata": {
  "language_info": {
   "name": "python"
  },
  "orig_nbformat": 4
 },
 "nbformat": 4,
 "nbformat_minor": 2
}
