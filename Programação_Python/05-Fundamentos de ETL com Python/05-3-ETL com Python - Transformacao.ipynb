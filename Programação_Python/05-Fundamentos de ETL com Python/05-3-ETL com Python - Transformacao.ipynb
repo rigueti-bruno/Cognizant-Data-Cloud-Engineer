{
 "cells": [
  {
   "cell_type": "markdown",
   "metadata": {},
   "source": [
    "# Instruções de Extração, Validação e Limpeza"
   ]
  },
  {
   "cell_type": "markdown",
   "metadata": {},
   "source": [
    "## Carregando as Bibliotecas:"
   ]
  },
  {
   "cell_type": "code",
   "execution_count": 2,
   "metadata": {},
   "outputs": [],
   "source": [
    "import pandas as pd\n",
    "import pandera as pa"
   ]
  },
  {
   "cell_type": "markdown",
   "metadata": {},
   "source": [
    "## 1 - Extração:"
   ]
  },
  {
   "cell_type": "code",
   "execution_count": 3,
   "metadata": {},
   "outputs": [],
   "source": [
    "valores_ausentes = [\"**\", \"****\", \"###!\", \"####\", \"*****\", \"NULL\", \"NÃO IDENTIFICADA\", \"\"]\n",
    "df = pd.read_csv(\"ocorrencia.csv\", sep=\",\", parse_dates=['ocorrencia_dia'], dayfirst=True, na_values=valores_ausentes)\n",
    "# valores_ausentes - cria um array com todos os possíveis valores ausentes nos dados a serem carregados\n",
    "# na_values=valores_ausentes - identifica pelo array criado os possíveis valores ausentes e os substitui por NaN ou NaT já no carregamento"
   ]
  },
  {
   "cell_type": "markdown",
   "metadata": {},
   "source": [
    "## 2 - Validação:"
   ]
  },
  {
   "cell_type": "markdown",
   "metadata": {},
   "source": [
    "### Esquema de Validação:"
   ]
  },
  {
   "cell_type": "code",
   "execution_count": 8,
   "metadata": {},
   "outputs": [],
   "source": [
    "schema = pa.DataFrameSchema(\n",
    "    columns = {\n",
    "        \"codigo\": pa.Column(pa.Int, required=False),\n",
    "        \"codigo_ocorrencia\": pa.Column(pa.Int),\n",
    "        \"codigo_ocorrencia2\": pa.Column(pa.Int),\n",
    "        \"ocorrencia_classificacao\": pa.Column(pa.String),\n",
    "        \"ocorrencia_cidade\": pa.Column(pa.String, nullable=True),\n",
    "        \"ocorrencia_uf\": pa.Column(pa.String, pa.Check.str_length(2,2), nullable=True),\n",
    "        \"ocorrencia_aerodromo\": pa.Column(pa.String, nullable=True),\n",
    "        \"ocorrencia_dia\": pa.Column(pa.DateTime, nullable=True),\n",
    "        \"ocorrencia_hora\": pa.Column(pa.String, pa.Check.str_matches(r'^([0-1]?[0-9]|[2][0-3]):([0-5][0-9]):([0-5][0-9])?$'), nullable=True),\n",
    "        \"total_recomendacoes\": pa.Column(pa.Float, nullable=True)\n",
    "    }\n",
    ")"
   ]
  },
  {
   "cell_type": "markdown",
   "metadata": {},
   "source": [
    "### Validação dos Dados:"
   ]
  },
  {
   "cell_type": "code",
   "execution_count": 9,
   "metadata": {},
   "outputs": [
    {
     "data": {
      "text/html": [
       "<div>\n",
       "<style scoped>\n",
       "    .dataframe tbody tr th:only-of-type {\n",
       "        vertical-align: middle;\n",
       "    }\n",
       "\n",
       "    .dataframe tbody tr th {\n",
       "        vertical-align: top;\n",
       "    }\n",
       "\n",
       "    .dataframe thead th {\n",
       "        text-align: right;\n",
       "    }\n",
       "</style>\n",
       "<table border=\"1\" class=\"dataframe\">\n",
       "  <thead>\n",
       "    <tr style=\"text-align: right;\">\n",
       "      <th></th>\n",
       "      <th>codigo_ocorrencia</th>\n",
       "      <th>codigo_ocorrencia2</th>\n",
       "      <th>ocorrencia_classificacao</th>\n",
       "      <th>ocorrencia_cidade</th>\n",
       "      <th>ocorrencia_uf</th>\n",
       "      <th>ocorrencia_aerodromo</th>\n",
       "      <th>ocorrencia_dia</th>\n",
       "      <th>ocorrencia_hora</th>\n",
       "      <th>total_recomendacoes</th>\n",
       "    </tr>\n",
       "  </thead>\n",
       "  <tbody>\n",
       "    <tr>\n",
       "      <th>0</th>\n",
       "      <td>52242</td>\n",
       "      <td>52242</td>\n",
       "      <td>INCIDENTE</td>\n",
       "      <td>PORTO ALEGRE</td>\n",
       "      <td>RS</td>\n",
       "      <td>SBPA</td>\n",
       "      <td>2012-01-05</td>\n",
       "      <td>20:27:00</td>\n",
       "      <td>0.0</td>\n",
       "    </tr>\n",
       "    <tr>\n",
       "      <th>1</th>\n",
       "      <td>45331</td>\n",
       "      <td>45331</td>\n",
       "      <td>ACIDENTE</td>\n",
       "      <td>GUARULHOS</td>\n",
       "      <td>SP</td>\n",
       "      <td>SBGR</td>\n",
       "      <td>2012-01-06</td>\n",
       "      <td>13:44:00</td>\n",
       "      <td>3.0</td>\n",
       "    </tr>\n",
       "    <tr>\n",
       "      <th>2</th>\n",
       "      <td>45333</td>\n",
       "      <td>45333</td>\n",
       "      <td>ACIDENTE</td>\n",
       "      <td>VIAMÃO</td>\n",
       "      <td>RS</td>\n",
       "      <td>NaN</td>\n",
       "      <td>2012-01-06</td>\n",
       "      <td>13:00:00</td>\n",
       "      <td>0.0</td>\n",
       "    </tr>\n",
       "    <tr>\n",
       "      <th>3</th>\n",
       "      <td>45401</td>\n",
       "      <td>45401</td>\n",
       "      <td>ACIDENTE</td>\n",
       "      <td>SÃO SEBASTIÃO</td>\n",
       "      <td>SP</td>\n",
       "      <td>NaN</td>\n",
       "      <td>2012-01-06</td>\n",
       "      <td>17:00:00</td>\n",
       "      <td>0.0</td>\n",
       "    </tr>\n",
       "    <tr>\n",
       "      <th>4</th>\n",
       "      <td>45407</td>\n",
       "      <td>45407</td>\n",
       "      <td>ACIDENTE</td>\n",
       "      <td>SÃO SEPÉ</td>\n",
       "      <td>RS</td>\n",
       "      <td>NaN</td>\n",
       "      <td>2012-01-06</td>\n",
       "      <td>16:30:00</td>\n",
       "      <td>0.0</td>\n",
       "    </tr>\n",
       "    <tr>\n",
       "      <th>...</th>\n",
       "      <td>...</td>\n",
       "      <td>...</td>\n",
       "      <td>...</td>\n",
       "      <td>...</td>\n",
       "      <td>...</td>\n",
       "      <td>...</td>\n",
       "      <td>...</td>\n",
       "      <td>...</td>\n",
       "      <td>...</td>\n",
       "    </tr>\n",
       "    <tr>\n",
       "      <th>5163</th>\n",
       "      <td>80452</td>\n",
       "      <td>80452</td>\n",
       "      <td>ACIDENTE</td>\n",
       "      <td>MARACAÍ</td>\n",
       "      <td>SP</td>\n",
       "      <td>NaN</td>\n",
       "      <td>2021-12-31</td>\n",
       "      <td>9:30:00</td>\n",
       "      <td>0.0</td>\n",
       "    </tr>\n",
       "    <tr>\n",
       "      <th>5164</th>\n",
       "      <td>80457</td>\n",
       "      <td>80457</td>\n",
       "      <td>INCIDENTE GRAVE</td>\n",
       "      <td>NOVO HAMBURGO</td>\n",
       "      <td>RS</td>\n",
       "      <td>SSNH</td>\n",
       "      <td>2021-12-31</td>\n",
       "      <td>11:59:00</td>\n",
       "      <td>0.0</td>\n",
       "    </tr>\n",
       "    <tr>\n",
       "      <th>5165</th>\n",
       "      <td>80460</td>\n",
       "      <td>80460</td>\n",
       "      <td>INCIDENTE</td>\n",
       "      <td>CURITIBA</td>\n",
       "      <td>PR</td>\n",
       "      <td>SBBI</td>\n",
       "      <td>2021-12-31</td>\n",
       "      <td>15:12:00</td>\n",
       "      <td>0.0</td>\n",
       "    </tr>\n",
       "    <tr>\n",
       "      <th>5166</th>\n",
       "      <td>80467</td>\n",
       "      <td>80467</td>\n",
       "      <td>INCIDENTE</td>\n",
       "      <td>PETROLINA</td>\n",
       "      <td>PE</td>\n",
       "      <td>SBPL</td>\n",
       "      <td>2021-12-31</td>\n",
       "      <td>20:30:00</td>\n",
       "      <td>0.0</td>\n",
       "    </tr>\n",
       "    <tr>\n",
       "      <th>5167</th>\n",
       "      <td>80467</td>\n",
       "      <td>80467</td>\n",
       "      <td>INCIDENTE</td>\n",
       "      <td>PETROLINA</td>\n",
       "      <td>PE</td>\n",
       "      <td>SBPL</td>\n",
       "      <td>2021-12-31</td>\n",
       "      <td>20:30:00</td>\n",
       "      <td>0.0</td>\n",
       "    </tr>\n",
       "  </tbody>\n",
       "</table>\n",
       "<p>5168 rows × 9 columns</p>\n",
       "</div>"
      ],
      "text/plain": [
       "      codigo_ocorrencia  codigo_ocorrencia2 ocorrencia_classificacao  \\\n",
       "0                 52242               52242                INCIDENTE   \n",
       "1                 45331               45331                 ACIDENTE   \n",
       "2                 45333               45333                 ACIDENTE   \n",
       "3                 45401               45401                 ACIDENTE   \n",
       "4                 45407               45407                 ACIDENTE   \n",
       "...                 ...                 ...                      ...   \n",
       "5163              80452               80452                 ACIDENTE   \n",
       "5164              80457               80457          INCIDENTE GRAVE   \n",
       "5165              80460               80460                INCIDENTE   \n",
       "5166              80467               80467                INCIDENTE   \n",
       "5167              80467               80467                INCIDENTE   \n",
       "\n",
       "     ocorrencia_cidade ocorrencia_uf ocorrencia_aerodromo ocorrencia_dia  \\\n",
       "0         PORTO ALEGRE            RS                 SBPA     2012-01-05   \n",
       "1            GUARULHOS            SP                 SBGR     2012-01-06   \n",
       "2               VIAMÃO            RS                  NaN     2012-01-06   \n",
       "3        SÃO SEBASTIÃO            SP                  NaN     2012-01-06   \n",
       "4             SÃO SEPÉ            RS                  NaN     2012-01-06   \n",
       "...                ...           ...                  ...            ...   \n",
       "5163           MARACAÍ            SP                  NaN     2021-12-31   \n",
       "5164     NOVO HAMBURGO            RS                 SSNH     2021-12-31   \n",
       "5165          CURITIBA            PR                 SBBI     2021-12-31   \n",
       "5166         PETROLINA            PE                 SBPL     2021-12-31   \n",
       "5167         PETROLINA            PE                 SBPL     2021-12-31   \n",
       "\n",
       "     ocorrencia_hora  total_recomendacoes  \n",
       "0           20:27:00                  0.0  \n",
       "1           13:44:00                  3.0  \n",
       "2           13:00:00                  0.0  \n",
       "3           17:00:00                  0.0  \n",
       "4           16:30:00                  0.0  \n",
       "...              ...                  ...  \n",
       "5163         9:30:00                  0.0  \n",
       "5164        11:59:00                  0.0  \n",
       "5165        15:12:00                  0.0  \n",
       "5166        20:30:00                  0.0  \n",
       "5167        20:30:00                  0.0  \n",
       "\n",
       "[5168 rows x 9 columns]"
      ]
     },
     "execution_count": 9,
     "metadata": {},
     "output_type": "execute_result"
    }
   ],
   "source": [
    "schema.validate(df)"
   ]
  },
  {
   "cell_type": "markdown",
   "metadata": {},
   "source": [
    "### Conferir os Tipos de Dados:"
   ]
  },
  {
   "cell_type": "code",
   "execution_count": 10,
   "metadata": {},
   "outputs": [
    {
     "data": {
      "text/plain": [
       "codigo_ocorrencia                    int64\n",
       "codigo_ocorrencia2                   int64\n",
       "ocorrencia_classificacao            object\n",
       "ocorrencia_cidade                   object\n",
       "ocorrencia_uf                       object\n",
       "ocorrencia_aerodromo                object\n",
       "ocorrencia_dia              datetime64[ns]\n",
       "ocorrencia_hora                     object\n",
       "total_recomendacoes                float64\n",
       "dtype: object"
      ]
     },
     "execution_count": 10,
     "metadata": {},
     "output_type": "execute_result"
    }
   ],
   "source": [
    "df.dtypes"
   ]
  },
  {
   "cell_type": "markdown",
   "metadata": {},
   "source": [
    "### Localizando e exibindo itens do dataframe por seus indices com a função .iloc[]:"
   ]
  },
  {
   "cell_type": "code",
   "execution_count": 22,
   "metadata": {},
   "outputs": [
    {
     "data": {
      "text/plain": [
       "codigo_ocorrencia                         52242\n",
       "codigo_ocorrencia2                        52242\n",
       "ocorrencia_classificacao              INCIDENTE\n",
       "ocorrencia_cidade                  PORTO ALEGRE\n",
       "ocorrencia_uf                                RS\n",
       "ocorrencia_aerodromo                       SBPA\n",
       "ocorrencia_dia              2012-01-05 00:00:00\n",
       "ocorrencia_hora                        20:27:00\n",
       "total_recomendacoes                         0.0\n",
       "Name: 0, dtype: object"
      ]
     },
     "execution_count": 22,
     "metadata": {},
     "output_type": "execute_result"
    }
   ],
   "source": [
    "df.iloc[0] # imprime o primeiro item do dataframe"
   ]
  },
  {
   "cell_type": "code",
   "execution_count": 23,
   "metadata": {},
   "outputs": [
    {
     "data": {
      "text/plain": [
       "codigo_ocorrencia                         80467\n",
       "codigo_ocorrencia2                        80467\n",
       "ocorrencia_classificacao              INCIDENTE\n",
       "ocorrencia_cidade                     PETROLINA\n",
       "ocorrencia_uf                                PE\n",
       "ocorrencia_aerodromo                       SBPL\n",
       "ocorrencia_dia              2021-12-31 00:00:00\n",
       "ocorrencia_hora                        20:30:00\n",
       "total_recomendacoes                         0.0\n",
       "Name: 5167, dtype: object"
      ]
     },
     "execution_count": 23,
     "metadata": {},
     "output_type": "execute_result"
    }
   ],
   "source": [
    "df.iloc[-1] # imprime o último item do dataframe"
   ]
  },
  {
   "cell_type": "code",
   "execution_count": 24,
   "metadata": {},
   "outputs": [
    {
     "data": {
      "text/html": [
       "<div>\n",
       "<style scoped>\n",
       "    .dataframe tbody tr th:only-of-type {\n",
       "        vertical-align: middle;\n",
       "    }\n",
       "\n",
       "    .dataframe tbody tr th {\n",
       "        vertical-align: top;\n",
       "    }\n",
       "\n",
       "    .dataframe thead th {\n",
       "        text-align: right;\n",
       "    }\n",
       "</style>\n",
       "<table border=\"1\" class=\"dataframe\">\n",
       "  <thead>\n",
       "    <tr style=\"text-align: right;\">\n",
       "      <th></th>\n",
       "      <th>codigo_ocorrencia</th>\n",
       "      <th>codigo_ocorrencia2</th>\n",
       "      <th>ocorrencia_classificacao</th>\n",
       "      <th>ocorrencia_cidade</th>\n",
       "      <th>ocorrencia_uf</th>\n",
       "      <th>ocorrencia_aerodromo</th>\n",
       "      <th>ocorrencia_dia</th>\n",
       "      <th>ocorrencia_hora</th>\n",
       "      <th>total_recomendacoes</th>\n",
       "    </tr>\n",
       "  </thead>\n",
       "  <tbody>\n",
       "    <tr>\n",
       "      <th>10</th>\n",
       "      <td>45332</td>\n",
       "      <td>45332</td>\n",
       "      <td>ACIDENTE</td>\n",
       "      <td>VIAMÃO</td>\n",
       "      <td>RS</td>\n",
       "      <td>NaN</td>\n",
       "      <td>2012-01-09</td>\n",
       "      <td>13:30:00</td>\n",
       "      <td>0.0</td>\n",
       "    </tr>\n",
       "    <tr>\n",
       "      <th>11</th>\n",
       "      <td>52245</td>\n",
       "      <td>52245</td>\n",
       "      <td>INCIDENTE</td>\n",
       "      <td>PORTO ALEGRE</td>\n",
       "      <td>RS</td>\n",
       "      <td>SBPA</td>\n",
       "      <td>2012-01-09</td>\n",
       "      <td>13:36:00</td>\n",
       "      <td>0.0</td>\n",
       "    </tr>\n",
       "    <tr>\n",
       "      <th>12</th>\n",
       "      <td>45396</td>\n",
       "      <td>45396</td>\n",
       "      <td>INCIDENTE GRAVE</td>\n",
       "      <td>MARABÁ</td>\n",
       "      <td>PA</td>\n",
       "      <td>SBMA</td>\n",
       "      <td>2012-01-11</td>\n",
       "      <td>11:21:00</td>\n",
       "      <td>0.0</td>\n",
       "    </tr>\n",
       "    <tr>\n",
       "      <th>13</th>\n",
       "      <td>45408</td>\n",
       "      <td>45408</td>\n",
       "      <td>ACIDENTE</td>\n",
       "      <td>ELDORADO</td>\n",
       "      <td>SP</td>\n",
       "      <td>NaN</td>\n",
       "      <td>2012-01-11</td>\n",
       "      <td>13:45:00</td>\n",
       "      <td>1.0</td>\n",
       "    </tr>\n",
       "    <tr>\n",
       "      <th>14</th>\n",
       "      <td>45447</td>\n",
       "      <td>45447</td>\n",
       "      <td>INCIDENTE</td>\n",
       "      <td>RIO BRANCO</td>\n",
       "      <td>AC</td>\n",
       "      <td>NaN</td>\n",
       "      <td>2012-01-13</td>\n",
       "      <td>18:15:00</td>\n",
       "      <td>0.0</td>\n",
       "    </tr>\n",
       "  </tbody>\n",
       "</table>\n",
       "</div>"
      ],
      "text/plain": [
       "    codigo_ocorrencia  codigo_ocorrencia2 ocorrencia_classificacao  \\\n",
       "10              45332               45332                 ACIDENTE   \n",
       "11              52245               52245                INCIDENTE   \n",
       "12              45396               45396          INCIDENTE GRAVE   \n",
       "13              45408               45408                 ACIDENTE   \n",
       "14              45447               45447                INCIDENTE   \n",
       "\n",
       "   ocorrencia_cidade ocorrencia_uf ocorrencia_aerodromo ocorrencia_dia  \\\n",
       "10            VIAMÃO            RS                  NaN     2012-01-09   \n",
       "11      PORTO ALEGRE            RS                 SBPA     2012-01-09   \n",
       "12            MARABÁ            PA                 SBMA     2012-01-11   \n",
       "13          ELDORADO            SP                  NaN     2012-01-11   \n",
       "14        RIO BRANCO            AC                  NaN     2012-01-13   \n",
       "\n",
       "   ocorrencia_hora  total_recomendacoes  \n",
       "10        13:30:00                  0.0  \n",
       "11        13:36:00                  0.0  \n",
       "12        11:21:00                  0.0  \n",
       "13        13:45:00                  1.0  \n",
       "14        18:15:00                  0.0  "
      ]
     },
     "execution_count": 24,
     "metadata": {},
     "output_type": "execute_result"
    }
   ],
   "source": [
    "df.iloc[10:15] # imprime os itens de indice 10 a 14 do dataframe - o indice 15 não consta no range"
   ]
  },
  {
   "cell_type": "code",
   "execution_count": 25,
   "metadata": {},
   "outputs": [
    {
     "data": {
      "text/html": [
       "<div>\n",
       "<style scoped>\n",
       "    .dataframe tbody tr th:only-of-type {\n",
       "        vertical-align: middle;\n",
       "    }\n",
       "\n",
       "    .dataframe tbody tr th {\n",
       "        vertical-align: top;\n",
       "    }\n",
       "\n",
       "    .dataframe thead th {\n",
       "        text-align: right;\n",
       "    }\n",
       "</style>\n",
       "<table border=\"1\" class=\"dataframe\">\n",
       "  <thead>\n",
       "    <tr style=\"text-align: right;\">\n",
       "      <th></th>\n",
       "      <th>codigo_ocorrencia</th>\n",
       "      <th>codigo_ocorrencia2</th>\n",
       "      <th>ocorrencia_classificacao</th>\n",
       "      <th>ocorrencia_cidade</th>\n",
       "      <th>ocorrencia_uf</th>\n",
       "      <th>ocorrencia_aerodromo</th>\n",
       "      <th>ocorrencia_dia</th>\n",
       "      <th>ocorrencia_hora</th>\n",
       "      <th>total_recomendacoes</th>\n",
       "    </tr>\n",
       "  </thead>\n",
       "  <tbody>\n",
       "    <tr>\n",
       "      <th>5165</th>\n",
       "      <td>80460</td>\n",
       "      <td>80460</td>\n",
       "      <td>INCIDENTE</td>\n",
       "      <td>CURITIBA</td>\n",
       "      <td>PR</td>\n",
       "      <td>SBBI</td>\n",
       "      <td>2021-12-31</td>\n",
       "      <td>15:12:00</td>\n",
       "      <td>0.0</td>\n",
       "    </tr>\n",
       "    <tr>\n",
       "      <th>5166</th>\n",
       "      <td>80467</td>\n",
       "      <td>80467</td>\n",
       "      <td>INCIDENTE</td>\n",
       "      <td>PETROLINA</td>\n",
       "      <td>PE</td>\n",
       "      <td>SBPL</td>\n",
       "      <td>2021-12-31</td>\n",
       "      <td>20:30:00</td>\n",
       "      <td>0.0</td>\n",
       "    </tr>\n",
       "    <tr>\n",
       "      <th>5167</th>\n",
       "      <td>80467</td>\n",
       "      <td>80467</td>\n",
       "      <td>INCIDENTE</td>\n",
       "      <td>PETROLINA</td>\n",
       "      <td>PE</td>\n",
       "      <td>SBPL</td>\n",
       "      <td>2021-12-31</td>\n",
       "      <td>20:30:00</td>\n",
       "      <td>0.0</td>\n",
       "    </tr>\n",
       "  </tbody>\n",
       "</table>\n",
       "</div>"
      ],
      "text/plain": [
       "      codigo_ocorrencia  codigo_ocorrencia2 ocorrencia_classificacao  \\\n",
       "5165              80460               80460                INCIDENTE   \n",
       "5166              80467               80467                INCIDENTE   \n",
       "5167              80467               80467                INCIDENTE   \n",
       "\n",
       "     ocorrencia_cidade ocorrencia_uf ocorrencia_aerodromo ocorrencia_dia  \\\n",
       "5165          CURITIBA            PR                 SBBI     2021-12-31   \n",
       "5166         PETROLINA            PE                 SBPL     2021-12-31   \n",
       "5167         PETROLINA            PE                 SBPL     2021-12-31   \n",
       "\n",
       "     ocorrencia_hora  total_recomendacoes  \n",
       "5165        15:12:00                  0.0  \n",
       "5166        20:30:00                  0.0  \n",
       "5167        20:30:00                  0.0  "
      ]
     },
     "execution_count": 25,
     "metadata": {},
     "output_type": "execute_result"
    }
   ],
   "source": [
    "df.iloc[-3:] # imprime do antepenúltimo ao último item do dataframe - o indice do primeiro indice a ser exibido vem primeiro"
   ]
  },
  {
   "cell_type": "markdown",
   "metadata": {},
   "source": [
    "### Buscando Dados de uma Coluna Específica - funciona com uma coluna por vez:"
   ]
  },
  {
   "cell_type": "code",
   "execution_count": 26,
   "metadata": {},
   "outputs": [
    {
     "data": {
      "text/plain": [
       "0       RS\n",
       "1       SP\n",
       "2       RS\n",
       "3       SP\n",
       "4       RS\n",
       "        ..\n",
       "5163    SP\n",
       "5164    RS\n",
       "5165    PR\n",
       "5166    PE\n",
       "5167    PE\n",
       "Name: ocorrencia_uf, Length: 5168, dtype: object"
      ]
     },
     "execution_count": 26,
     "metadata": {},
     "output_type": "execute_result"
    }
   ],
   "source": [
    "df['ocorrencia_uf']"
   ]
  }
 ],
 "metadata": {
  "interpreter": {
   "hash": "d37f61ffe7d685a1ac48b1d7774f291cdee1834edd502e25b8d0651861a5e209"
  },
  "kernelspec": {
   "display_name": "Python 3.9.9 64-bit",
   "language": "python",
   "name": "python3"
  },
  "language_info": {
   "codemirror_mode": {
    "name": "ipython",
    "version": 3
   },
   "file_extension": ".py",
   "mimetype": "text/x-python",
   "name": "python",
   "nbconvert_exporter": "python",
   "pygments_lexer": "ipython3",
   "version": "3.9.9"
  },
  "orig_nbformat": 4
 },
 "nbformat": 4,
 "nbformat_minor": 2
}
